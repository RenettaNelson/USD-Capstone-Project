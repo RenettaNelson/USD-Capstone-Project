{
 "cells": [
  {
   "cell_type": "code",
   "execution_count": 1,
   "metadata": {},
   "outputs": [],
   "source": [
    "import pandas as pd\n",
    "import numpy as np\n",
    "import seaborn as sns\n",
    "import matplotlib.pyplot as plt"
   ]
  },
  {
   "attachments": {},
   "cell_type": "markdown",
   "metadata": {},
   "source": [
    "# EDA of Datasets"
   ]
  },
  {
   "attachments": {},
   "cell_type": "markdown",
   "metadata": {},
   "source": [
    "#### Exploring the Calendar Dataset"
   ]
  },
  {
   "cell_type": "code",
   "execution_count": 3,
   "metadata": {},
   "outputs": [
    {
     "data": {
      "text/html": [
       "<div>\n",
       "<style scoped>\n",
       "    .dataframe tbody tr th:only-of-type {\n",
       "        vertical-align: middle;\n",
       "    }\n",
       "\n",
       "    .dataframe tbody tr th {\n",
       "        vertical-align: top;\n",
       "    }\n",
       "\n",
       "    .dataframe thead th {\n",
       "        text-align: right;\n",
       "    }\n",
       "</style>\n",
       "<table border=\"1\" class=\"dataframe\">\n",
       "  <thead>\n",
       "    <tr style=\"text-align: right;\">\n",
       "      <th></th>\n",
       "      <th>listing_id</th>\n",
       "      <th>date</th>\n",
       "      <th>available</th>\n",
       "      <th>price</th>\n",
       "      <th>adjusted_price</th>\n",
       "      <th>minimum_nights</th>\n",
       "      <th>maximum_nights</th>\n",
       "    </tr>\n",
       "  </thead>\n",
       "  <tbody>\n",
       "    <tr>\n",
       "      <th>0</th>\n",
       "      <td>29967</td>\n",
       "      <td>2022-09-18</td>\n",
       "      <td>f</td>\n",
       "      <td>$225.00</td>\n",
       "      <td>$225.00</td>\n",
       "      <td>4.0</td>\n",
       "      <td>365.0</td>\n",
       "    </tr>\n",
       "    <tr>\n",
       "      <th>1</th>\n",
       "      <td>29967</td>\n",
       "      <td>2022-09-19</td>\n",
       "      <td>f</td>\n",
       "      <td>$225.00</td>\n",
       "      <td>$225.00</td>\n",
       "      <td>4.0</td>\n",
       "      <td>365.0</td>\n",
       "    </tr>\n",
       "    <tr>\n",
       "      <th>2</th>\n",
       "      <td>29967</td>\n",
       "      <td>2022-09-20</td>\n",
       "      <td>f</td>\n",
       "      <td>$225.00</td>\n",
       "      <td>$225.00</td>\n",
       "      <td>4.0</td>\n",
       "      <td>365.0</td>\n",
       "    </tr>\n",
       "    <tr>\n",
       "      <th>3</th>\n",
       "      <td>29967</td>\n",
       "      <td>2022-09-21</td>\n",
       "      <td>f</td>\n",
       "      <td>$225.00</td>\n",
       "      <td>$225.00</td>\n",
       "      <td>4.0</td>\n",
       "      <td>365.0</td>\n",
       "    </tr>\n",
       "    <tr>\n",
       "      <th>4</th>\n",
       "      <td>29967</td>\n",
       "      <td>2022-09-22</td>\n",
       "      <td>f</td>\n",
       "      <td>$225.00</td>\n",
       "      <td>$225.00</td>\n",
       "      <td>4.0</td>\n",
       "      <td>365.0</td>\n",
       "    </tr>\n",
       "  </tbody>\n",
       "</table>\n",
       "</div>"
      ],
      "text/plain": [
       "   listing_id        date available    price adjusted_price  minimum_nights  \\\n",
       "0       29967  2022-09-18         f  $225.00        $225.00             4.0   \n",
       "1       29967  2022-09-19         f  $225.00        $225.00             4.0   \n",
       "2       29967  2022-09-20         f  $225.00        $225.00             4.0   \n",
       "3       29967  2022-09-21         f  $225.00        $225.00             4.0   \n",
       "4       29967  2022-09-22         f  $225.00        $225.00             4.0   \n",
       "\n",
       "   maximum_nights  \n",
       "0           365.0  \n",
       "1           365.0  \n",
       "2           365.0  \n",
       "3           365.0  \n",
       "4           365.0  "
      ]
     },
     "execution_count": 3,
     "metadata": {},
     "output_type": "execute_result"
    }
   ],
   "source": [
    "#Calendar Data:\n",
    "\n",
    "calendar = pd.read_csv('/Users/jackieurenda/Desktop/Capstone Datasets/calendar-9-18-22.csv')\n",
    "calendar.head()"
   ]
  },
  {
   "cell_type": "code",
   "execution_count": 4,
   "metadata": {},
   "outputs": [
    {
     "data": {
      "text/plain": [
       "14186"
      ]
     },
     "execution_count": 4,
     "metadata": {},
     "output_type": "execute_result"
    }
   ],
   "source": [
    "calendar['listing_id'].nunique()"
   ]
  },
  {
   "attachments": {},
   "cell_type": "markdown",
   "metadata": {},
   "source": [
    "There are a total of 14,186 individual property listings"
   ]
  },
  {
   "cell_type": "code",
   "execution_count": 5,
   "metadata": {},
   "outputs": [
    {
     "data": {
      "text/plain": [
       "(5173672, 7)"
      ]
     },
     "execution_count": 5,
     "metadata": {},
     "output_type": "execute_result"
    }
   ],
   "source": [
    "calendar.shape"
   ]
  },
  {
   "attachments": {},
   "cell_type": "markdown",
   "metadata": {},
   "source": [
    "There are over 5 million rows of data and 7 features in this dataset"
   ]
  },
  {
   "cell_type": "code",
   "execution_count": 6,
   "metadata": {},
   "outputs": [
    {
     "data": {
      "text/plain": [
       "listing_id          int64\n",
       "date               object\n",
       "available          object\n",
       "price              object\n",
       "adjusted_price     object\n",
       "minimum_nights    float64\n",
       "maximum_nights    float64\n",
       "dtype: object"
      ]
     },
     "execution_count": 6,
     "metadata": {},
     "output_type": "execute_result"
    }
   ],
   "source": [
    "calendar.dtypes"
   ]
  },
  {
   "attachments": {},
   "cell_type": "markdown",
   "metadata": {},
   "source": [
    "#### Converting the data types into the correct format"
   ]
  },
  {
   "cell_type": "code",
   "execution_count": 7,
   "metadata": {},
   "outputs": [
    {
     "name": "stderr",
     "output_type": "stream",
     "text": [
      "/var/folders/51/q9hxxxv54rs_ms2xxv3y82fm0000gn/T/ipykernel_93376/2502108965.py:3: FutureWarning: The default value of regex will change from True to False in a future version. In addition, single character regular expressions will *not* be treated as literal strings when regex=True.\n",
      "  calendar['price'] = calendar['price'].str.replace('$', '').str.replace(',','')\n",
      "/var/folders/51/q9hxxxv54rs_ms2xxv3y82fm0000gn/T/ipykernel_93376/2502108965.py:6: FutureWarning: The default value of regex will change from True to False in a future version. In addition, single character regular expressions will *not* be treated as literal strings when regex=True.\n",
      "  calendar['adjusted_price'] = calendar['adjusted_price'].str.replace('$', '').str.replace(',','')\n"
     ]
    }
   ],
   "source": [
    "#converting price & adjusted price to integer\n",
    "\n",
    "calendar['price'] = calendar['price'].str.replace('$', '').str.replace(',','')\n",
    "calendar['price'] = pd.to_numeric(calendar['price'])\n",
    "\n",
    "calendar['adjusted_price'] = calendar['adjusted_price'].str.replace('$', '').str.replace(',','')\n",
    "calendar['adjusted_price'] = pd.to_numeric(calendar['adjusted_price'])"
   ]
  },
  {
   "cell_type": "code",
   "execution_count": 9,
   "metadata": {},
   "outputs": [],
   "source": [
    "#Converting the date column into the correct data formart\n",
    "\n",
    "calendar['date'] = pd.to_datetime(calendar['date'])"
   ]
  },
  {
   "cell_type": "code",
   "execution_count": 8,
   "metadata": {},
   "outputs": [
    {
     "data": {
      "text/html": [
       "<div>\n",
       "<style scoped>\n",
       "    .dataframe tbody tr th:only-of-type {\n",
       "        vertical-align: middle;\n",
       "    }\n",
       "\n",
       "    .dataframe tbody tr th {\n",
       "        vertical-align: top;\n",
       "    }\n",
       "\n",
       "    .dataframe thead th {\n",
       "        text-align: right;\n",
       "    }\n",
       "</style>\n",
       "<table border=\"1\" class=\"dataframe\">\n",
       "  <thead>\n",
       "    <tr style=\"text-align: right;\">\n",
       "      <th></th>\n",
       "      <th>listing_id</th>\n",
       "      <th>date</th>\n",
       "      <th>available</th>\n",
       "      <th>price</th>\n",
       "      <th>adjusted_price</th>\n",
       "      <th>minimum_nights</th>\n",
       "      <th>maximum_nights</th>\n",
       "    </tr>\n",
       "  </thead>\n",
       "  <tbody>\n",
       "    <tr>\n",
       "      <th>0</th>\n",
       "      <td>29967</td>\n",
       "      <td>2022-09-18</td>\n",
       "      <td>f</td>\n",
       "      <td>225.0</td>\n",
       "      <td>225.0</td>\n",
       "      <td>4.0</td>\n",
       "      <td>365.0</td>\n",
       "    </tr>\n",
       "    <tr>\n",
       "      <th>1</th>\n",
       "      <td>29967</td>\n",
       "      <td>2022-09-19</td>\n",
       "      <td>f</td>\n",
       "      <td>225.0</td>\n",
       "      <td>225.0</td>\n",
       "      <td>4.0</td>\n",
       "      <td>365.0</td>\n",
       "    </tr>\n",
       "    <tr>\n",
       "      <th>2</th>\n",
       "      <td>29967</td>\n",
       "      <td>2022-09-20</td>\n",
       "      <td>f</td>\n",
       "      <td>225.0</td>\n",
       "      <td>225.0</td>\n",
       "      <td>4.0</td>\n",
       "      <td>365.0</td>\n",
       "    </tr>\n",
       "    <tr>\n",
       "      <th>3</th>\n",
       "      <td>29967</td>\n",
       "      <td>2022-09-21</td>\n",
       "      <td>f</td>\n",
       "      <td>225.0</td>\n",
       "      <td>225.0</td>\n",
       "      <td>4.0</td>\n",
       "      <td>365.0</td>\n",
       "    </tr>\n",
       "    <tr>\n",
       "      <th>4</th>\n",
       "      <td>29967</td>\n",
       "      <td>2022-09-22</td>\n",
       "      <td>f</td>\n",
       "      <td>225.0</td>\n",
       "      <td>225.0</td>\n",
       "      <td>4.0</td>\n",
       "      <td>365.0</td>\n",
       "    </tr>\n",
       "  </tbody>\n",
       "</table>\n",
       "</div>"
      ],
      "text/plain": [
       "   listing_id        date available  price  adjusted_price  minimum_nights  \\\n",
       "0       29967  2022-09-18         f  225.0           225.0             4.0   \n",
       "1       29967  2022-09-19         f  225.0           225.0             4.0   \n",
       "2       29967  2022-09-20         f  225.0           225.0             4.0   \n",
       "3       29967  2022-09-21         f  225.0           225.0             4.0   \n",
       "4       29967  2022-09-22         f  225.0           225.0             4.0   \n",
       "\n",
       "   maximum_nights  \n",
       "0           365.0  \n",
       "1           365.0  \n",
       "2           365.0  \n",
       "3           365.0  \n",
       "4           365.0  "
      ]
     },
     "execution_count": 8,
     "metadata": {},
     "output_type": "execute_result"
    }
   ],
   "source": [
    "calendar.head()"
   ]
  },
  {
   "cell_type": "code",
   "execution_count": 9,
   "metadata": {},
   "outputs": [
    {
     "data": {
      "text/html": [
       "<div>\n",
       "<style scoped>\n",
       "    .dataframe tbody tr th:only-of-type {\n",
       "        vertical-align: middle;\n",
       "    }\n",
       "\n",
       "    .dataframe tbody tr th {\n",
       "        vertical-align: top;\n",
       "    }\n",
       "\n",
       "    .dataframe thead th {\n",
       "        text-align: right;\n",
       "    }\n",
       "</style>\n",
       "<table border=\"1\" class=\"dataframe\">\n",
       "  <thead>\n",
       "    <tr style=\"text-align: right;\">\n",
       "      <th></th>\n",
       "      <th>listing_id</th>\n",
       "      <th>price</th>\n",
       "      <th>adjusted_price</th>\n",
       "      <th>minimum_nights</th>\n",
       "      <th>maximum_nights</th>\n",
       "    </tr>\n",
       "  </thead>\n",
       "  <tbody>\n",
       "    <tr>\n",
       "      <th>count</th>\n",
       "      <td>5.173672e+06</td>\n",
       "      <td>5.170977e+06</td>\n",
       "      <td>5.170977e+06</td>\n",
       "      <td>5.167851e+06</td>\n",
       "      <td>5.167851e+06</td>\n",
       "    </tr>\n",
       "    <tr>\n",
       "      <th>mean</th>\n",
       "      <td>1.598379e+17</td>\n",
       "      <td>3.963504e+02</td>\n",
       "      <td>3.947934e+02</td>\n",
       "      <td>7.522396e+00</td>\n",
       "      <td>3.040892e+05</td>\n",
       "    </tr>\n",
       "    <tr>\n",
       "      <th>std</th>\n",
       "      <td>2.767907e+17</td>\n",
       "      <td>1.185625e+03</td>\n",
       "      <td>1.183286e+03</td>\n",
       "      <td>2.055726e+01</td>\n",
       "      <td>2.552146e+07</td>\n",
       "    </tr>\n",
       "    <tr>\n",
       "      <th>min</th>\n",
       "      <td>2.996700e+04</td>\n",
       "      <td>0.000000e+00</td>\n",
       "      <td>0.000000e+00</td>\n",
       "      <td>0.000000e+00</td>\n",
       "      <td>0.000000e+00</td>\n",
       "    </tr>\n",
       "    <tr>\n",
       "      <th>25%</th>\n",
       "      <td>2.501354e+07</td>\n",
       "      <td>1.250000e+02</td>\n",
       "      <td>1.250000e+02</td>\n",
       "      <td>2.000000e+00</td>\n",
       "      <td>3.650000e+02</td>\n",
       "    </tr>\n",
       "    <tr>\n",
       "      <th>50%</th>\n",
       "      <td>4.540952e+07</td>\n",
       "      <td>2.110000e+02</td>\n",
       "      <td>2.110000e+02</td>\n",
       "      <td>3.000000e+00</td>\n",
       "      <td>1.125000e+03</td>\n",
       "    </tr>\n",
       "    <tr>\n",
       "      <th>75%</th>\n",
       "      <td>5.223218e+17</td>\n",
       "      <td>3.990000e+02</td>\n",
       "      <td>3.990000e+02</td>\n",
       "      <td>5.000000e+00</td>\n",
       "      <td>1.125000e+03</td>\n",
       "    </tr>\n",
       "    <tr>\n",
       "      <th>max</th>\n",
       "      <td>7.181068e+17</td>\n",
       "      <td>1.000000e+05</td>\n",
       "      <td>1.000000e+05</td>\n",
       "      <td>9.990000e+02</td>\n",
       "      <td>2.147484e+09</td>\n",
       "    </tr>\n",
       "  </tbody>\n",
       "</table>\n",
       "</div>"
      ],
      "text/plain": [
       "         listing_id         price  adjusted_price  minimum_nights  \\\n",
       "count  5.173672e+06  5.170977e+06    5.170977e+06    5.167851e+06   \n",
       "mean   1.598379e+17  3.963504e+02    3.947934e+02    7.522396e+00   \n",
       "std    2.767907e+17  1.185625e+03    1.183286e+03    2.055726e+01   \n",
       "min    2.996700e+04  0.000000e+00    0.000000e+00    0.000000e+00   \n",
       "25%    2.501354e+07  1.250000e+02    1.250000e+02    2.000000e+00   \n",
       "50%    4.540952e+07  2.110000e+02    2.110000e+02    3.000000e+00   \n",
       "75%    5.223218e+17  3.990000e+02    3.990000e+02    5.000000e+00   \n",
       "max    7.181068e+17  1.000000e+05    1.000000e+05    9.990000e+02   \n",
       "\n",
       "       maximum_nights  \n",
       "count    5.167851e+06  \n",
       "mean     3.040892e+05  \n",
       "std      2.552146e+07  \n",
       "min      0.000000e+00  \n",
       "25%      3.650000e+02  \n",
       "50%      1.125000e+03  \n",
       "75%      1.125000e+03  \n",
       "max      2.147484e+09  "
      ]
     },
     "execution_count": 9,
     "metadata": {},
     "output_type": "execute_result"
    }
   ],
   "source": [
    "calendar.describe()"
   ]
  },
  {
   "attachments": {},
   "cell_type": "markdown",
   "metadata": {},
   "source": [
    "Based on the descriptive statistics, price_usd and adjusted_price_usd are the same so we can drop on of the columns"
   ]
  },
  {
   "cell_type": "code",
   "execution_count": 10,
   "metadata": {},
   "outputs": [],
   "source": [
    "del calendar['adjusted_price']"
   ]
  },
  {
   "cell_type": "code",
   "execution_count": 11,
   "metadata": {},
   "outputs": [
    {
     "data": {
      "text/html": [
       "<div>\n",
       "<style scoped>\n",
       "    .dataframe tbody tr th:only-of-type {\n",
       "        vertical-align: middle;\n",
       "    }\n",
       "\n",
       "    .dataframe tbody tr th {\n",
       "        vertical-align: top;\n",
       "    }\n",
       "\n",
       "    .dataframe thead th {\n",
       "        text-align: right;\n",
       "    }\n",
       "</style>\n",
       "<table border=\"1\" class=\"dataframe\">\n",
       "  <thead>\n",
       "    <tr style=\"text-align: right;\">\n",
       "      <th></th>\n",
       "      <th>listing_id</th>\n",
       "      <th>date</th>\n",
       "      <th>available</th>\n",
       "      <th>price</th>\n",
       "      <th>minimum_nights</th>\n",
       "      <th>maximum_nights</th>\n",
       "    </tr>\n",
       "  </thead>\n",
       "  <tbody>\n",
       "    <tr>\n",
       "      <th>0</th>\n",
       "      <td>29967</td>\n",
       "      <td>2022-09-18</td>\n",
       "      <td>f</td>\n",
       "      <td>225.0</td>\n",
       "      <td>4.0</td>\n",
       "      <td>365.0</td>\n",
       "    </tr>\n",
       "    <tr>\n",
       "      <th>1</th>\n",
       "      <td>29967</td>\n",
       "      <td>2022-09-19</td>\n",
       "      <td>f</td>\n",
       "      <td>225.0</td>\n",
       "      <td>4.0</td>\n",
       "      <td>365.0</td>\n",
       "    </tr>\n",
       "    <tr>\n",
       "      <th>2</th>\n",
       "      <td>29967</td>\n",
       "      <td>2022-09-20</td>\n",
       "      <td>f</td>\n",
       "      <td>225.0</td>\n",
       "      <td>4.0</td>\n",
       "      <td>365.0</td>\n",
       "    </tr>\n",
       "  </tbody>\n",
       "</table>\n",
       "</div>"
      ],
      "text/plain": [
       "   listing_id        date available  price  minimum_nights  maximum_nights\n",
       "0       29967  2022-09-18         f  225.0             4.0           365.0\n",
       "1       29967  2022-09-19         f  225.0             4.0           365.0\n",
       "2       29967  2022-09-20         f  225.0             4.0           365.0"
      ]
     },
     "execution_count": 11,
     "metadata": {},
     "output_type": "execute_result"
    }
   ],
   "source": [
    "calendar.head(3)"
   ]
  },
  {
   "cell_type": "code",
   "execution_count": 12,
   "metadata": {},
   "outputs": [
    {
     "data": {
      "text/plain": [
       "listing_id           0\n",
       "date                 0\n",
       "available            0\n",
       "price             2695\n",
       "minimum_nights    5821\n",
       "maximum_nights    5821\n",
       "dtype: int64"
      ]
     },
     "execution_count": 12,
     "metadata": {},
     "output_type": "execute_result"
    }
   ],
   "source": [
    "calendar.isnull().sum()"
   ]
  },
  {
   "cell_type": "code",
   "execution_count": 14,
   "metadata": {},
   "outputs": [
    {
     "data": {
      "text/html": [
       "<div>\n",
       "<style scoped>\n",
       "    .dataframe tbody tr th:only-of-type {\n",
       "        vertical-align: middle;\n",
       "    }\n",
       "\n",
       "    .dataframe tbody tr th {\n",
       "        vertical-align: top;\n",
       "    }\n",
       "\n",
       "    .dataframe thead th {\n",
       "        text-align: right;\n",
       "    }\n",
       "</style>\n",
       "<table border=\"1\" class=\"dataframe\">\n",
       "  <thead>\n",
       "    <tr style=\"text-align: right;\">\n",
       "      <th></th>\n",
       "      <th>listing_id</th>\n",
       "      <th>date</th>\n",
       "      <th>available</th>\n",
       "      <th>price</th>\n",
       "      <th>minimum_nights</th>\n",
       "      <th>maximum_nights</th>\n",
       "    </tr>\n",
       "  </thead>\n",
       "  <tbody>\n",
       "    <tr>\n",
       "      <th>0</th>\n",
       "      <td>29967</td>\n",
       "      <td>2022-09-18</td>\n",
       "      <td>f</td>\n",
       "      <td>225.0</td>\n",
       "      <td>4.0</td>\n",
       "      <td>365.0</td>\n",
       "    </tr>\n",
       "    <tr>\n",
       "      <th>1</th>\n",
       "      <td>29967</td>\n",
       "      <td>2022-09-19</td>\n",
       "      <td>f</td>\n",
       "      <td>225.0</td>\n",
       "      <td>4.0</td>\n",
       "      <td>365.0</td>\n",
       "    </tr>\n",
       "    <tr>\n",
       "      <th>2</th>\n",
       "      <td>29967</td>\n",
       "      <td>2022-09-20</td>\n",
       "      <td>f</td>\n",
       "      <td>225.0</td>\n",
       "      <td>4.0</td>\n",
       "      <td>365.0</td>\n",
       "    </tr>\n",
       "    <tr>\n",
       "      <th>3</th>\n",
       "      <td>29967</td>\n",
       "      <td>2022-09-21</td>\n",
       "      <td>f</td>\n",
       "      <td>225.0</td>\n",
       "      <td>4.0</td>\n",
       "      <td>365.0</td>\n",
       "    </tr>\n",
       "    <tr>\n",
       "      <th>4</th>\n",
       "      <td>29967</td>\n",
       "      <td>2022-09-22</td>\n",
       "      <td>f</td>\n",
       "      <td>225.0</td>\n",
       "      <td>4.0</td>\n",
       "      <td>365.0</td>\n",
       "    </tr>\n",
       "    <tr>\n",
       "      <th>...</th>\n",
       "      <td>...</td>\n",
       "      <td>...</td>\n",
       "      <td>...</td>\n",
       "      <td>...</td>\n",
       "      <td>...</td>\n",
       "      <td>...</td>\n",
       "    </tr>\n",
       "    <tr>\n",
       "      <th>5173667</th>\n",
       "      <td>103841</td>\n",
       "      <td>2023-09-13</td>\n",
       "      <td>f</td>\n",
       "      <td>103.0</td>\n",
       "      <td>2.0</td>\n",
       "      <td>31.0</td>\n",
       "    </tr>\n",
       "    <tr>\n",
       "      <th>5173668</th>\n",
       "      <td>103841</td>\n",
       "      <td>2023-09-14</td>\n",
       "      <td>f</td>\n",
       "      <td>103.0</td>\n",
       "      <td>2.0</td>\n",
       "      <td>31.0</td>\n",
       "    </tr>\n",
       "    <tr>\n",
       "      <th>5173669</th>\n",
       "      <td>103841</td>\n",
       "      <td>2023-09-15</td>\n",
       "      <td>f</td>\n",
       "      <td>103.0</td>\n",
       "      <td>2.0</td>\n",
       "      <td>31.0</td>\n",
       "    </tr>\n",
       "    <tr>\n",
       "      <th>5173670</th>\n",
       "      <td>103841</td>\n",
       "      <td>2023-09-16</td>\n",
       "      <td>f</td>\n",
       "      <td>103.0</td>\n",
       "      <td>2.0</td>\n",
       "      <td>31.0</td>\n",
       "    </tr>\n",
       "    <tr>\n",
       "      <th>5173671</th>\n",
       "      <td>103841</td>\n",
       "      <td>2023-09-17</td>\n",
       "      <td>f</td>\n",
       "      <td>103.0</td>\n",
       "      <td>2.0</td>\n",
       "      <td>31.0</td>\n",
       "    </tr>\n",
       "  </tbody>\n",
       "</table>\n",
       "<p>5165156 rows × 6 columns</p>\n",
       "</div>"
      ],
      "text/plain": [
       "         listing_id        date available  price  minimum_nights  \\\n",
       "0             29967  2022-09-18         f  225.0             4.0   \n",
       "1             29967  2022-09-19         f  225.0             4.0   \n",
       "2             29967  2022-09-20         f  225.0             4.0   \n",
       "3             29967  2022-09-21         f  225.0             4.0   \n",
       "4             29967  2022-09-22         f  225.0             4.0   \n",
       "...             ...         ...       ...    ...             ...   \n",
       "5173667      103841  2023-09-13         f  103.0             2.0   \n",
       "5173668      103841  2023-09-14         f  103.0             2.0   \n",
       "5173669      103841  2023-09-15         f  103.0             2.0   \n",
       "5173670      103841  2023-09-16         f  103.0             2.0   \n",
       "5173671      103841  2023-09-17         f  103.0             2.0   \n",
       "\n",
       "         maximum_nights  \n",
       "0                 365.0  \n",
       "1                 365.0  \n",
       "2                 365.0  \n",
       "3                 365.0  \n",
       "4                 365.0  \n",
       "...                 ...  \n",
       "5173667            31.0  \n",
       "5173668            31.0  \n",
       "5173669            31.0  \n",
       "5173670            31.0  \n",
       "5173671            31.0  \n",
       "\n",
       "[5165156 rows x 6 columns]"
      ]
     },
     "execution_count": 14,
     "metadata": {},
     "output_type": "execute_result"
    }
   ],
   "source": [
    "#drop the null price values\n",
    "\n",
    "calendar.dropna()"
   ]
  },
  {
   "attachments": {},
   "cell_type": "markdown",
   "metadata": {},
   "source": [
    "Around 8,516 rows of data loss with removal of null values"
   ]
  },
  {
   "attachments": {},
   "cell_type": "markdown",
   "metadata": {},
   "source": [
    "Looking at the average daily pricing:"
   ]
  },
  {
   "cell_type": "code",
   "execution_count": 34,
   "metadata": {},
   "outputs": [
    {
     "data": {
      "text/plain": [
       "date\n",
       "2022-09-18    349.354344\n",
       "2022-09-19    326.569281\n",
       "2022-09-20    326.932237\n",
       "2022-09-21    329.501376\n",
       "2022-09-22    338.522690\n",
       "Name: price, dtype: float64"
      ]
     },
     "execution_count": 34,
     "metadata": {},
     "output_type": "execute_result"
    }
   ],
   "source": [
    "#looking at average price per day\n",
    "\n",
    "average_price = calendar.groupby('date')['price'].mean()\n",
    "\n",
    "average_price.head()"
   ]
  },
  {
   "cell_type": "code",
   "execution_count": 35,
   "metadata": {},
   "outputs": [
    {
     "data": {
      "text/plain": [
       "(369,)"
      ]
     },
     "execution_count": 35,
     "metadata": {},
     "output_type": "execute_result"
    }
   ],
   "source": [
    "average_price.shape"
   ]
  },
  {
   "attachments": {},
   "cell_type": "markdown",
   "metadata": {},
   "source": [
    "There are 369 days of data"
   ]
  },
  {
   "cell_type": "code",
   "execution_count": 54,
   "metadata": {},
   "outputs": [
    {
     "data": {
      "text/plain": [
       "<AxesSubplot: title={'center': 'Average Daily Pricing'}, xlabel='Date', ylabel='Price (USD)'>"
      ]
     },
     "execution_count": 54,
     "metadata": {},
     "output_type": "execute_result"
    },
    {
     "data": {
      "image/png": "[encoded data removed]",
      "text/plain": [
       "<Figure size 1000x500 with 1 Axes>"
      ]
     },
     "metadata": {},
     "output_type": "display_data"
    }
   ],
   "source": [
    "#Time Series plot of the average daily pricing\n",
    "average_price.plot(figsize=(10,5), title='Average Daily Pricing', xlabel=\"Date\", ylabel=\"Price (USD)\", color = \"darkcyan\")"
   ]
  },
  {
   "attachments": {},
   "cell_type": "markdown",
   "metadata": {},
   "source": [
    "There seems to be a general increase trend going into holiday season in November and December. This makes sense as people tend to travel and vacation at the end of the year during the holidays. There's also an increasing trend through the summer period with pricing peaking some time between July and and August. These are most likely the most popular month for travel in San Diego. There also seems to be some cycles based on this figure. Pricing seems to go up and down pretty frequently. This probably is due to weekday's being cheaper pricing and weekends having higher pricing. "
   ]
  },
  {
   "attachments": {},
   "cell_type": "markdown",
   "metadata": {},
   "source": [
    "Looking at the \"available\" feature:"
   ]
  },
  {
   "cell_type": "code",
   "execution_count": 37,
   "metadata": {},
   "outputs": [
    {
     "data": {
      "text/plain": [
       "array(['f', 't'], dtype=object)"
      ]
     },
     "execution_count": 37,
     "metadata": {},
     "output_type": "execute_result"
    }
   ],
   "source": [
    "calendar.available.unique()"
   ]
  },
  {
   "attachments": {},
   "cell_type": "markdown",
   "metadata": {},
   "source": [
    "'f' must mean false indicating that the listing isn't available. 't' must mean true indicating that the listing is available. This categorical feature can be encoded."
   ]
  },
  {
   "cell_type": "code",
   "execution_count": 41,
   "metadata": {},
   "outputs": [
    {
     "data": {
      "text/plain": [
       "t    2618177\n",
       "f    2555495\n",
       "Name: available, dtype: int64"
      ]
     },
     "execution_count": 41,
     "metadata": {},
     "output_type": "execute_result"
    }
   ],
   "source": [
    "available_values = calendar.available.value_counts()\n",
    "available_values"
   ]
  },
  {
   "cell_type": "code",
   "execution_count": 55,
   "metadata": {},
   "outputs": [
    {
     "data": {
      "text/plain": [
       "<AxesSubplot: title={'center': 'Count of Listing Availability Status'}, xlabel='Count', ylabel='Available Status'>"
      ]
     },
     "execution_count": 55,
     "metadata": {},
     "output_type": "execute_result"
    },
    {
     "data": {
      "image/png": "[encoded data removed]",
      "text/plain": [
       "<Figure size 640x480 with 1 Axes>"
      ]
     },
     "metadata": {},
     "output_type": "display_data"
    }
   ],
   "source": [
    "available_values.plot(kind='barh', title='Count of Listing Availability Status', xlabel=\"Count\", ylabel=\"Available Status\", color='darkcyan')"
   ]
  },
  {
   "attachments": {},
   "cell_type": "markdown",
   "metadata": {},
   "source": [
    "Almost even distribution for this feature"
   ]
  },
  {
   "attachments": {},
   "cell_type": "markdown",
   "metadata": {},
   "source": [
    "#### Exploring the Reviews dataset"
   ]
  },
  {
   "cell_type": "code",
   "execution_count": 56,
   "metadata": {},
   "outputs": [
    {
     "data": {
      "text/html": [
       "<div>\n",
       "<style scoped>\n",
       "    .dataframe tbody tr th:only-of-type {\n",
       "        vertical-align: middle;\n",
       "    }\n",
       "\n",
       "    .dataframe tbody tr th {\n",
       "        vertical-align: top;\n",
       "    }\n",
       "\n",
       "    .dataframe thead th {\n",
       "        text-align: right;\n",
       "    }\n",
       "</style>\n",
       "<table border=\"1\" class=\"dataframe\">\n",
       "  <thead>\n",
       "    <tr style=\"text-align: right;\">\n",
       "      <th></th>\n",
       "      <th>listing_id</th>\n",
       "      <th>id</th>\n",
       "      <th>date</th>\n",
       "      <th>reviewer_id</th>\n",
       "      <th>reviewer_name</th>\n",
       "      <th>comments</th>\n",
       "    </tr>\n",
       "  </thead>\n",
       "  <tbody>\n",
       "    <tr>\n",
       "      <th>0</th>\n",
       "      <td>29967</td>\n",
       "      <td>62788</td>\n",
       "      <td>2010-07-09</td>\n",
       "      <td>151260</td>\n",
       "      <td>Debbie</td>\n",
       "      <td>When I booked our stay in San Diego at Dennis ...</td>\n",
       "    </tr>\n",
       "    <tr>\n",
       "      <th>1</th>\n",
       "      <td>29967</td>\n",
       "      <td>64568</td>\n",
       "      <td>2010-07-14</td>\n",
       "      <td>141552</td>\n",
       "      <td>Eric</td>\n",
       "      <td>This was my first experience with using airbnb...</td>\n",
       "    </tr>\n",
       "    <tr>\n",
       "      <th>2</th>\n",
       "      <td>29967</td>\n",
       "      <td>67502</td>\n",
       "      <td>2010-07-22</td>\n",
       "      <td>141591</td>\n",
       "      <td>David</td>\n",
       "      <td>We found the house to be very accommodating--e...</td>\n",
       "    </tr>\n",
       "    <tr>\n",
       "      <th>3</th>\n",
       "      <td>29967</td>\n",
       "      <td>70466</td>\n",
       "      <td>2010-07-29</td>\n",
       "      <td>125982</td>\n",
       "      <td>Anders</td>\n",
       "      <td>As advertised and more. Dennis was very helpfu...</td>\n",
       "    </tr>\n",
       "    <tr>\n",
       "      <th>4</th>\n",
       "      <td>29967</td>\n",
       "      <td>74876</td>\n",
       "      <td>2010-08-07</td>\n",
       "      <td>29835</td>\n",
       "      <td>Miyoko</td>\n",
       "      <td>We had a great time in San Diego. Denis' house...</td>\n",
       "    </tr>\n",
       "  </tbody>\n",
       "</table>\n",
       "</div>"
      ],
      "text/plain": [
       "   listing_id     id        date  reviewer_id reviewer_name  \\\n",
       "0       29967  62788  2010-07-09       151260        Debbie   \n",
       "1       29967  64568  2010-07-14       141552          Eric   \n",
       "2       29967  67502  2010-07-22       141591         David   \n",
       "3       29967  70466  2010-07-29       125982        Anders   \n",
       "4       29967  74876  2010-08-07        29835        Miyoko   \n",
       "\n",
       "                                            comments  \n",
       "0  When I booked our stay in San Diego at Dennis ...  \n",
       "1  This was my first experience with using airbnb...  \n",
       "2  We found the house to be very accommodating--e...  \n",
       "3  As advertised and more. Dennis was very helpfu...  \n",
       "4  We had a great time in San Diego. Denis' house...  "
      ]
     },
     "execution_count": 56,
     "metadata": {},
     "output_type": "execute_result"
    }
   ],
   "source": [
    "reviews = pd.read_csv('/Users/jackieurenda/Desktop/Capstone Datasets/reviews-9-18-22.csv')\n",
    "reviews.head()"
   ]
  },
  {
   "attachments": {},
   "cell_type": "markdown",
   "metadata": {},
   "source": [
    "Not sure if this dataset will be necessary"
   ]
  },
  {
   "attachments": {},
   "cell_type": "markdown",
   "metadata": {},
   "source": [
    "#### Exploring Weather Dataset"
   ]
  },
  {
   "cell_type": "code",
   "execution_count": 57,
   "metadata": {},
   "outputs": [
    {
     "data": {
      "text/html": [
       "<div>\n",
       "<style scoped>\n",
       "    .dataframe tbody tr th:only-of-type {\n",
       "        vertical-align: middle;\n",
       "    }\n",
       "\n",
       "    .dataframe tbody tr th {\n",
       "        vertical-align: top;\n",
       "    }\n",
       "\n",
       "    .dataframe thead th {\n",
       "        text-align: right;\n",
       "    }\n",
       "</style>\n",
       "<table border=\"1\" class=\"dataframe\">\n",
       "  <thead>\n",
       "    <tr style=\"text-align: right;\">\n",
       "      <th></th>\n",
       "      <th>Date</th>\n",
       "      <th>Precip</th>\n",
       "      <th>Max Temp</th>\n",
       "      <th>Min Temp</th>\n",
       "    </tr>\n",
       "  </thead>\n",
       "  <tbody>\n",
       "    <tr>\n",
       "      <th>0</th>\n",
       "      <td>20220918</td>\n",
       "      <td>0</td>\n",
       "      <td>76.0</td>\n",
       "      <td>59.0</td>\n",
       "    </tr>\n",
       "    <tr>\n",
       "      <th>1</th>\n",
       "      <td>20220919</td>\n",
       "      <td>0</td>\n",
       "      <td>78.0</td>\n",
       "      <td>57.0</td>\n",
       "    </tr>\n",
       "    <tr>\n",
       "      <th>2</th>\n",
       "      <td>20220920</td>\n",
       "      <td>0</td>\n",
       "      <td>80.0</td>\n",
       "      <td>58.0</td>\n",
       "    </tr>\n",
       "    <tr>\n",
       "      <th>3</th>\n",
       "      <td>20220921</td>\n",
       "      <td>0</td>\n",
       "      <td>79.0</td>\n",
       "      <td>62.0</td>\n",
       "    </tr>\n",
       "    <tr>\n",
       "      <th>4</th>\n",
       "      <td>20220922</td>\n",
       "      <td>0</td>\n",
       "      <td>81.0</td>\n",
       "      <td>56.0</td>\n",
       "    </tr>\n",
       "  </tbody>\n",
       "</table>\n",
       "</div>"
      ],
      "text/plain": [
       "       Date Precip  Max Temp  Min Temp\n",
       "0  20220918      0      76.0      59.0\n",
       "1  20220919      0      78.0      57.0\n",
       "2  20220920      0      80.0      58.0\n",
       "3  20220921      0      79.0      62.0\n",
       "4  20220922      0      81.0      56.0"
      ]
     },
     "execution_count": 57,
     "metadata": {},
     "output_type": "execute_result"
    }
   ],
   "source": [
    "weather = pd.read_csv('/Users/jackieurenda/Desktop/Capstone Datasets/SD_Weather_Data.csv')\n",
    "\n",
    "weather.head()"
   ]
  },
  {
   "cell_type": "code",
   "execution_count": 58,
   "metadata": {},
   "outputs": [
    {
     "data": {
      "text/plain": [
       "(396, 4)"
      ]
     },
     "execution_count": 58,
     "metadata": {},
     "output_type": "execute_result"
    }
   ],
   "source": [
    "weather.shape"
   ]
  },
  {
   "attachments": {},
   "cell_type": "markdown",
   "metadata": {},
   "source": [
    "There are 396 dates within the dataset"
   ]
  },
  {
   "cell_type": "code",
   "execution_count": 59,
   "metadata": {},
   "outputs": [
    {
     "data": {
      "text/plain": [
       "Date         object\n",
       "Precip       object\n",
       "Max Temp    float64\n",
       "Min Temp    float64\n",
       "dtype: object"
      ]
     },
     "execution_count": 59,
     "metadata": {},
     "output_type": "execute_result"
    }
   ],
   "source": [
    "weather.dtypes"
   ]
  },
  {
   "cell_type": "code",
   "execution_count": 60,
   "metadata": {},
   "outputs": [
    {
     "data": {
      "text/plain": [
       "Date        25\n",
       "Precip      26\n",
       "Max Temp    27\n",
       "Min Temp    27\n",
       "dtype: int64"
      ]
     },
     "execution_count": 60,
     "metadata": {},
     "output_type": "execute_result"
    }
   ],
   "source": [
    "weather.isnull().sum()"
   ]
  },
  {
   "attachments": {},
   "cell_type": "markdown",
   "metadata": {},
   "source": [
    "There are several missing values across all features. These will have to be imputed"
   ]
  },
  {
   "attachments": {},
   "cell_type": "markdown",
   "metadata": {},
   "source": [
    "Date needs to be converted into proper format"
   ]
  },
  {
   "cell_type": "code",
   "execution_count": 61,
   "metadata": {},
   "outputs": [],
   "source": [
    "#Converting the date column into the correct data formart\n",
    "\n",
    "\n",
    "def convert_date(date_str):\n",
    "    try:\n",
    "        return pd.to_datetime(date_str, format='%Y%m%d')\n",
    "    except ValueError:\n",
    "        return pd.NaT\n",
    "weather['Date'] = weather['Date'].apply(convert_date)"
   ]
  },
  {
   "cell_type": "code",
   "execution_count": 62,
   "metadata": {},
   "outputs": [
    {
     "data": {
      "text/html": [
       "<div>\n",
       "<style scoped>\n",
       "    .dataframe tbody tr th:only-of-type {\n",
       "        vertical-align: middle;\n",
       "    }\n",
       "\n",
       "    .dataframe tbody tr th {\n",
       "        vertical-align: top;\n",
       "    }\n",
       "\n",
       "    .dataframe thead th {\n",
       "        text-align: right;\n",
       "    }\n",
       "</style>\n",
       "<table border=\"1\" class=\"dataframe\">\n",
       "  <thead>\n",
       "    <tr style=\"text-align: right;\">\n",
       "      <th></th>\n",
       "      <th>Date</th>\n",
       "      <th>Precip</th>\n",
       "      <th>Max Temp</th>\n",
       "      <th>Min Temp</th>\n",
       "    </tr>\n",
       "  </thead>\n",
       "  <tbody>\n",
       "    <tr>\n",
       "      <th>0</th>\n",
       "      <td>2022-09-18</td>\n",
       "      <td>0</td>\n",
       "      <td>76.0</td>\n",
       "      <td>59.0</td>\n",
       "    </tr>\n",
       "    <tr>\n",
       "      <th>1</th>\n",
       "      <td>2022-09-19</td>\n",
       "      <td>0</td>\n",
       "      <td>78.0</td>\n",
       "      <td>57.0</td>\n",
       "    </tr>\n",
       "    <tr>\n",
       "      <th>2</th>\n",
       "      <td>2022-09-20</td>\n",
       "      <td>0</td>\n",
       "      <td>80.0</td>\n",
       "      <td>58.0</td>\n",
       "    </tr>\n",
       "    <tr>\n",
       "      <th>3</th>\n",
       "      <td>2022-09-21</td>\n",
       "      <td>0</td>\n",
       "      <td>79.0</td>\n",
       "      <td>62.0</td>\n",
       "    </tr>\n",
       "    <tr>\n",
       "      <th>4</th>\n",
       "      <td>2022-09-22</td>\n",
       "      <td>0</td>\n",
       "      <td>81.0</td>\n",
       "      <td>56.0</td>\n",
       "    </tr>\n",
       "  </tbody>\n",
       "</table>\n",
       "</div>"
      ],
      "text/plain": [
       "        Date Precip  Max Temp  Min Temp\n",
       "0 2022-09-18      0      76.0      59.0\n",
       "1 2022-09-19      0      78.0      57.0\n",
       "2 2022-09-20      0      80.0      58.0\n",
       "3 2022-09-21      0      79.0      62.0\n",
       "4 2022-09-22      0      81.0      56.0"
      ]
     },
     "execution_count": 62,
     "metadata": {},
     "output_type": "execute_result"
    }
   ],
   "source": [
    "weather.head()"
   ]
  },
  {
   "cell_type": "code",
   "execution_count": 63,
   "metadata": {},
   "outputs": [
    {
     "data": {
      "text/html": [
       "<div>\n",
       "<style scoped>\n",
       "    .dataframe tbody tr th:only-of-type {\n",
       "        vertical-align: middle;\n",
       "    }\n",
       "\n",
       "    .dataframe tbody tr th {\n",
       "        vertical-align: top;\n",
       "    }\n",
       "\n",
       "    .dataframe thead th {\n",
       "        text-align: right;\n",
       "    }\n",
       "</style>\n",
       "<table border=\"1\" class=\"dataframe\">\n",
       "  <thead>\n",
       "    <tr style=\"text-align: right;\">\n",
       "      <th></th>\n",
       "      <th>Max Temp</th>\n",
       "      <th>Min Temp</th>\n",
       "    </tr>\n",
       "  </thead>\n",
       "  <tbody>\n",
       "    <tr>\n",
       "      <th>count</th>\n",
       "      <td>369.000000</td>\n",
       "      <td>369.000000</td>\n",
       "    </tr>\n",
       "    <tr>\n",
       "      <th>mean</th>\n",
       "      <td>69.772358</td>\n",
       "      <td>52.582656</td>\n",
       "    </tr>\n",
       "    <tr>\n",
       "      <th>std</th>\n",
       "      <td>7.439042</td>\n",
       "      <td>8.660839</td>\n",
       "    </tr>\n",
       "    <tr>\n",
       "      <th>min</th>\n",
       "      <td>54.000000</td>\n",
       "      <td>35.000000</td>\n",
       "    </tr>\n",
       "    <tr>\n",
       "      <th>25%</th>\n",
       "      <td>64.000000</td>\n",
       "      <td>44.000000</td>\n",
       "    </tr>\n",
       "    <tr>\n",
       "      <th>50%</th>\n",
       "      <td>70.000000</td>\n",
       "      <td>54.000000</td>\n",
       "    </tr>\n",
       "    <tr>\n",
       "      <th>75%</th>\n",
       "      <td>76.000000</td>\n",
       "      <td>61.000000</td>\n",
       "    </tr>\n",
       "    <tr>\n",
       "      <th>max</th>\n",
       "      <td>96.000000</td>\n",
       "      <td>65.000000</td>\n",
       "    </tr>\n",
       "  </tbody>\n",
       "</table>\n",
       "</div>"
      ],
      "text/plain": [
       "         Max Temp    Min Temp\n",
       "count  369.000000  369.000000\n",
       "mean    69.772358   52.582656\n",
       "std      7.439042    8.660839\n",
       "min     54.000000   35.000000\n",
       "25%     64.000000   44.000000\n",
       "50%     70.000000   54.000000\n",
       "75%     76.000000   61.000000\n",
       "max     96.000000   65.000000"
      ]
     },
     "execution_count": 63,
     "metadata": {},
     "output_type": "execute_result"
    }
   ],
   "source": [
    "weather.describe()"
   ]
  },
  {
   "attachments": {},
   "cell_type": "markdown",
   "metadata": {},
   "source": [
    "Creating average daily temperature column:"
   ]
  },
  {
   "cell_type": "code",
   "execution_count": 65,
   "metadata": {},
   "outputs": [
    {
     "data": {
      "text/html": [
       "<div>\n",
       "<style scoped>\n",
       "    .dataframe tbody tr th:only-of-type {\n",
       "        vertical-align: middle;\n",
       "    }\n",
       "\n",
       "    .dataframe tbody tr th {\n",
       "        vertical-align: top;\n",
       "    }\n",
       "\n",
       "    .dataframe thead th {\n",
       "        text-align: right;\n",
       "    }\n",
       "</style>\n",
       "<table border=\"1\" class=\"dataframe\">\n",
       "  <thead>\n",
       "    <tr style=\"text-align: right;\">\n",
       "      <th></th>\n",
       "      <th>Date</th>\n",
       "      <th>Precip</th>\n",
       "      <th>Max Temp</th>\n",
       "      <th>Min Temp</th>\n",
       "      <th>Average Temp</th>\n",
       "    </tr>\n",
       "  </thead>\n",
       "  <tbody>\n",
       "    <tr>\n",
       "      <th>0</th>\n",
       "      <td>2022-09-18</td>\n",
       "      <td>0</td>\n",
       "      <td>76.0</td>\n",
       "      <td>59.0</td>\n",
       "      <td>67.5</td>\n",
       "    </tr>\n",
       "    <tr>\n",
       "      <th>1</th>\n",
       "      <td>2022-09-19</td>\n",
       "      <td>0</td>\n",
       "      <td>78.0</td>\n",
       "      <td>57.0</td>\n",
       "      <td>67.5</td>\n",
       "    </tr>\n",
       "    <tr>\n",
       "      <th>2</th>\n",
       "      <td>2022-09-20</td>\n",
       "      <td>0</td>\n",
       "      <td>80.0</td>\n",
       "      <td>58.0</td>\n",
       "      <td>69.0</td>\n",
       "    </tr>\n",
       "    <tr>\n",
       "      <th>3</th>\n",
       "      <td>2022-09-21</td>\n",
       "      <td>0</td>\n",
       "      <td>79.0</td>\n",
       "      <td>62.0</td>\n",
       "      <td>70.5</td>\n",
       "    </tr>\n",
       "    <tr>\n",
       "      <th>4</th>\n",
       "      <td>2022-09-22</td>\n",
       "      <td>0</td>\n",
       "      <td>81.0</td>\n",
       "      <td>56.0</td>\n",
       "      <td>68.5</td>\n",
       "    </tr>\n",
       "  </tbody>\n",
       "</table>\n",
       "</div>"
      ],
      "text/plain": [
       "        Date Precip  Max Temp  Min Temp  Average Temp\n",
       "0 2022-09-18      0      76.0      59.0          67.5\n",
       "1 2022-09-19      0      78.0      57.0          67.5\n",
       "2 2022-09-20      0      80.0      58.0          69.0\n",
       "3 2022-09-21      0      79.0      62.0          70.5\n",
       "4 2022-09-22      0      81.0      56.0          68.5"
      ]
     },
     "execution_count": 65,
     "metadata": {},
     "output_type": "execute_result"
    }
   ],
   "source": [
    "weather['Average Temp'] = weather[['Max Temp', 'Min Temp']].mean(axis=1)\n",
    "\n",
    "weather.head()"
   ]
  },
  {
   "cell_type": "code",
   "execution_count": 68,
   "metadata": {},
   "outputs": [
    {
     "data": {
      "image/png": "[encoded data removed]",
      "text/plain": [
       "<Figure size 1000x500 with 1 Axes>"
      ]
     },
     "metadata": {},
     "output_type": "display_data"
    }
   ],
   "source": [
    "average_temp = weather.plot(x=\"Date\", y=\"Average Temp\", figsize=(10,5), title='Average Daily Temperature', xlabel=\"Date\", ylabel=\"Average Temperature (F)\", color = \"darkcyan\")"
   ]
  },
  {
   "attachments": {},
   "cell_type": "markdown",
   "metadata": {},
   "source": [
    "#### Exploring Listings Dataset"
   ]
  },
  {
   "cell_type": "code",
   "execution_count": 69,
   "metadata": {},
   "outputs": [
    {
     "data": {
      "text/html": [
       "<div>\n",
       "<style scoped>\n",
       "    .dataframe tbody tr th:only-of-type {\n",
       "        vertical-align: middle;\n",
       "    }\n",
       "\n",
       "    .dataframe tbody tr th {\n",
       "        vertical-align: top;\n",
       "    }\n",
       "\n",
       "    .dataframe thead th {\n",
       "        text-align: right;\n",
       "    }\n",
       "</style>\n",
       "<table border=\"1\" class=\"dataframe\">\n",
       "  <thead>\n",
       "    <tr style=\"text-align: right;\">\n",
       "      <th></th>\n",
       "      <th>id</th>\n",
       "      <th>listing_url</th>\n",
       "      <th>scrape_id</th>\n",
       "      <th>last_scraped</th>\n",
       "      <th>source</th>\n",
       "      <th>name</th>\n",
       "      <th>description</th>\n",
       "      <th>neighborhood_overview</th>\n",
       "      <th>picture_url</th>\n",
       "      <th>host_id</th>\n",
       "      <th>...</th>\n",
       "      <th>review_scores_communication</th>\n",
       "      <th>review_scores_location</th>\n",
       "      <th>review_scores_value</th>\n",
       "      <th>license</th>\n",
       "      <th>instant_bookable</th>\n",
       "      <th>calculated_host_listings_count</th>\n",
       "      <th>calculated_host_listings_count_entire_homes</th>\n",
       "      <th>calculated_host_listings_count_private_rooms</th>\n",
       "      <th>calculated_host_listings_count_shared_rooms</th>\n",
       "      <th>reviews_per_month</th>\n",
       "    </tr>\n",
       "  </thead>\n",
       "  <tbody>\n",
       "    <tr>\n",
       "      <th>0</th>\n",
       "      <td>29967</td>\n",
       "      <td>https://www.airbnb.com/rooms/29967</td>\n",
       "      <td>20220918143850</td>\n",
       "      <td>2022-09-18</td>\n",
       "      <td>city scrape</td>\n",
       "      <td>Great home, 10 min walk to Beach</td>\n",
       "      <td>This 2 bedroom, 2 full bathroom home offers al...</td>\n",
       "      <td>NaN</td>\n",
       "      <td>https://a0.muscache.com/pictures/76103867/c9b5...</td>\n",
       "      <td>129123</td>\n",
       "      <td>...</td>\n",
       "      <td>4.91</td>\n",
       "      <td>4.80</td>\n",
       "      <td>4.76</td>\n",
       "      <td>NaN</td>\n",
       "      <td>f</td>\n",
       "      <td>5</td>\n",
       "      <td>5</td>\n",
       "      <td>0</td>\n",
       "      <td>0</td>\n",
       "      <td>0.59</td>\n",
       "    </tr>\n",
       "    <tr>\n",
       "      <th>1</th>\n",
       "      <td>38245</td>\n",
       "      <td>https://www.airbnb.com/rooms/38245</td>\n",
       "      <td>20220918143850</td>\n",
       "      <td>2022-09-18</td>\n",
       "      <td>city scrape</td>\n",
       "      <td>Point Loma: Den downstairs</td>\n",
       "      <td>Stay in a 1928 Spanish Style home.  Den is dow...</td>\n",
       "      <td>This neighborhood is an expensive, high-end Po...</td>\n",
       "      <td>https://a0.muscache.com/pictures/f3073822-e493...</td>\n",
       "      <td>164137</td>\n",
       "      <td>...</td>\n",
       "      <td>4.79</td>\n",
       "      <td>4.61</td>\n",
       "      <td>4.40</td>\n",
       "      <td>NaN</td>\n",
       "      <td>f</td>\n",
       "      <td>3</td>\n",
       "      <td>0</td>\n",
       "      <td>3</td>\n",
       "      <td>0</td>\n",
       "      <td>1.02</td>\n",
       "    </tr>\n",
       "    <tr>\n",
       "      <th>2</th>\n",
       "      <td>108349</td>\n",
       "      <td>https://www.airbnb.com/rooms/108349</td>\n",
       "      <td>20220918143850</td>\n",
       "      <td>2022-09-19</td>\n",
       "      <td>previous scrape</td>\n",
       "      <td>Felspar Townhome- Beach Living by Boardwalk &amp; ...</td>\n",
       "      <td>Find location and privacy in our spacious town...</td>\n",
       "      <td>Pacific Beach is the most fun beach neighborho...</td>\n",
       "      <td>https://a0.muscache.com/pictures/a25c4e97-913d...</td>\n",
       "      <td>546519</td>\n",
       "      <td>...</td>\n",
       "      <td>4.81</td>\n",
       "      <td>4.89</td>\n",
       "      <td>4.69</td>\n",
       "      <td>NaN</td>\n",
       "      <td>t</td>\n",
       "      <td>2</td>\n",
       "      <td>2</td>\n",
       "      <td>0</td>\n",
       "      <td>0</td>\n",
       "      <td>1.20</td>\n",
       "    </tr>\n",
       "    <tr>\n",
       "      <th>3</th>\n",
       "      <td>126344</td>\n",
       "      <td>https://www.airbnb.com/rooms/126344</td>\n",
       "      <td>20220918143850</td>\n",
       "      <td>2022-09-18</td>\n",
       "      <td>city scrape</td>\n",
       "      <td>Tourmaline House - Steps to Beach, Pet-Friendly</td>\n",
       "      <td>Our stylish beach house in North Pacific Beach...</td>\n",
       "      <td>The house sits just 2 blocks off the beach at ...</td>\n",
       "      <td>https://a0.muscache.com/pictures/55dd5953-67a5...</td>\n",
       "      <td>546519</td>\n",
       "      <td>...</td>\n",
       "      <td>4.81</td>\n",
       "      <td>4.78</td>\n",
       "      <td>4.65</td>\n",
       "      <td>NaN</td>\n",
       "      <td>t</td>\n",
       "      <td>2</td>\n",
       "      <td>2</td>\n",
       "      <td>0</td>\n",
       "      <td>0</td>\n",
       "      <td>1.38</td>\n",
       "    </tr>\n",
       "    <tr>\n",
       "      <th>4</th>\n",
       "      <td>54001</td>\n",
       "      <td>https://www.airbnb.com/rooms/54001</td>\n",
       "      <td>20220918143850</td>\n",
       "      <td>2022-09-18</td>\n",
       "      <td>city scrape</td>\n",
       "      <td>La Jolla Garden Cottage: Blks to Ocn; 2Bdms, 1...</td>\n",
       "      <td>Quiet, off the beaten path, tranquility abound...</td>\n",
       "      <td>Tranquility, stately trees, meditative, zen-fu...</td>\n",
       "      <td>https://a0.muscache.com/pictures/47035b04-633c...</td>\n",
       "      <td>252692</td>\n",
       "      <td>...</td>\n",
       "      <td>4.98</td>\n",
       "      <td>4.97</td>\n",
       "      <td>4.89</td>\n",
       "      <td>NaN</td>\n",
       "      <td>f</td>\n",
       "      <td>2</td>\n",
       "      <td>1</td>\n",
       "      <td>1</td>\n",
       "      <td>0</td>\n",
       "      <td>2.08</td>\n",
       "    </tr>\n",
       "  </tbody>\n",
       "</table>\n",
       "<p>5 rows × 75 columns</p>\n",
       "</div>"
      ],
      "text/plain": [
       "       id                          listing_url       scrape_id last_scraped  \\\n",
       "0   29967   https://www.airbnb.com/rooms/29967  20220918143850   2022-09-18   \n",
       "1   38245   https://www.airbnb.com/rooms/38245  20220918143850   2022-09-18   \n",
       "2  108349  https://www.airbnb.com/rooms/108349  20220918143850   2022-09-19   \n",
       "3  126344  https://www.airbnb.com/rooms/126344  20220918143850   2022-09-18   \n",
       "4   54001   https://www.airbnb.com/rooms/54001  20220918143850   2022-09-18   \n",
       "\n",
       "            source                                               name  \\\n",
       "0      city scrape                   Great home, 10 min walk to Beach   \n",
       "1      city scrape                         Point Loma: Den downstairs   \n",
       "2  previous scrape  Felspar Townhome- Beach Living by Boardwalk & ...   \n",
       "3      city scrape    Tourmaline House - Steps to Beach, Pet-Friendly   \n",
       "4      city scrape  La Jolla Garden Cottage: Blks to Ocn; 2Bdms, 1...   \n",
       "\n",
       "                                         description  \\\n",
       "0  This 2 bedroom, 2 full bathroom home offers al...   \n",
       "1  Stay in a 1928 Spanish Style home.  Den is dow...   \n",
       "2  Find location and privacy in our spacious town...   \n",
       "3  Our stylish beach house in North Pacific Beach...   \n",
       "4  Quiet, off the beaten path, tranquility abound...   \n",
       "\n",
       "                               neighborhood_overview  \\\n",
       "0                                                NaN   \n",
       "1  This neighborhood is an expensive, high-end Po...   \n",
       "2  Pacific Beach is the most fun beach neighborho...   \n",
       "3  The house sits just 2 blocks off the beach at ...   \n",
       "4  Tranquility, stately trees, meditative, zen-fu...   \n",
       "\n",
       "                                         picture_url  host_id  ...  \\\n",
       "0  https://a0.muscache.com/pictures/76103867/c9b5...   129123  ...   \n",
       "1  https://a0.muscache.com/pictures/f3073822-e493...   164137  ...   \n",
       "2  https://a0.muscache.com/pictures/a25c4e97-913d...   546519  ...   \n",
       "3  https://a0.muscache.com/pictures/55dd5953-67a5...   546519  ...   \n",
       "4  https://a0.muscache.com/pictures/47035b04-633c...   252692  ...   \n",
       "\n",
       "  review_scores_communication review_scores_location review_scores_value  \\\n",
       "0                        4.91                   4.80                4.76   \n",
       "1                        4.79                   4.61                4.40   \n",
       "2                        4.81                   4.89                4.69   \n",
       "3                        4.81                   4.78                4.65   \n",
       "4                        4.98                   4.97                4.89   \n",
       "\n",
       "  license instant_bookable calculated_host_listings_count  \\\n",
       "0     NaN                f                              5   \n",
       "1     NaN                f                              3   \n",
       "2     NaN                t                              2   \n",
       "3     NaN                t                              2   \n",
       "4     NaN                f                              2   \n",
       "\n",
       "  calculated_host_listings_count_entire_homes  \\\n",
       "0                                           5   \n",
       "1                                           0   \n",
       "2                                           2   \n",
       "3                                           2   \n",
       "4                                           1   \n",
       "\n",
       "  calculated_host_listings_count_private_rooms  \\\n",
       "0                                            0   \n",
       "1                                            3   \n",
       "2                                            0   \n",
       "3                                            0   \n",
       "4                                            1   \n",
       "\n",
       "  calculated_host_listings_count_shared_rooms reviews_per_month  \n",
       "0                                           0              0.59  \n",
       "1                                           0              1.02  \n",
       "2                                           0              1.20  \n",
       "3                                           0              1.38  \n",
       "4                                           0              2.08  \n",
       "\n",
       "[5 rows x 75 columns]"
      ]
     },
     "execution_count": 69,
     "metadata": {},
     "output_type": "execute_result"
    }
   ],
   "source": [
    "listings = pd.read_csv('/Users/jackieurenda/Desktop/Capstone Datasets/listings-9-18-22.csv')\n",
    "\n",
    "listings.head()"
   ]
  },
  {
   "cell_type": "code",
   "execution_count": 70,
   "metadata": {},
   "outputs": [
    {
     "data": {
      "text/plain": [
       "(14188, 75)"
      ]
     },
     "execution_count": 70,
     "metadata": {},
     "output_type": "execute_result"
    }
   ],
   "source": [
    "listings.shape"
   ]
  },
  {
   "cell_type": "code",
   "execution_count": 71,
   "metadata": {},
   "outputs": [
    {
     "data": {
      "text/html": [
       "<div>\n",
       "<style scoped>\n",
       "    .dataframe tbody tr th:only-of-type {\n",
       "        vertical-align: middle;\n",
       "    }\n",
       "\n",
       "    .dataframe tbody tr th {\n",
       "        vertical-align: top;\n",
       "    }\n",
       "\n",
       "    .dataframe thead th {\n",
       "        text-align: right;\n",
       "    }\n",
       "</style>\n",
       "<table border=\"1\" class=\"dataframe\">\n",
       "  <thead>\n",
       "    <tr style=\"text-align: right;\">\n",
       "      <th></th>\n",
       "      <th>id</th>\n",
       "      <th>scrape_id</th>\n",
       "      <th>host_id</th>\n",
       "      <th>host_listings_count</th>\n",
       "      <th>host_total_listings_count</th>\n",
       "      <th>neighbourhood_group_cleansed</th>\n",
       "      <th>latitude</th>\n",
       "      <th>longitude</th>\n",
       "      <th>accommodates</th>\n",
       "      <th>bathrooms</th>\n",
       "      <th>...</th>\n",
       "      <th>review_scores_cleanliness</th>\n",
       "      <th>review_scores_checkin</th>\n",
       "      <th>review_scores_communication</th>\n",
       "      <th>review_scores_location</th>\n",
       "      <th>review_scores_value</th>\n",
       "      <th>calculated_host_listings_count</th>\n",
       "      <th>calculated_host_listings_count_entire_homes</th>\n",
       "      <th>calculated_host_listings_count_private_rooms</th>\n",
       "      <th>calculated_host_listings_count_shared_rooms</th>\n",
       "      <th>reviews_per_month</th>\n",
       "    </tr>\n",
       "  </thead>\n",
       "  <tbody>\n",
       "    <tr>\n",
       "      <th>count</th>\n",
       "      <td>1.418800e+04</td>\n",
       "      <td>1.418800e+04</td>\n",
       "      <td>1.418800e+04</td>\n",
       "      <td>14174.000000</td>\n",
       "      <td>14174.000000</td>\n",
       "      <td>0.0</td>\n",
       "      <td>14188.000000</td>\n",
       "      <td>14188.000000</td>\n",
       "      <td>14188.000000</td>\n",
       "      <td>0.0</td>\n",
       "      <td>...</td>\n",
       "      <td>12502.000000</td>\n",
       "      <td>12500.000000</td>\n",
       "      <td>12502.000000</td>\n",
       "      <td>12500.000000</td>\n",
       "      <td>12500.000000</td>\n",
       "      <td>14188.000000</td>\n",
       "      <td>14188.00000</td>\n",
       "      <td>14188.000000</td>\n",
       "      <td>14188.000000</td>\n",
       "      <td>12523.000000</td>\n",
       "    </tr>\n",
       "    <tr>\n",
       "      <th>mean</th>\n",
       "      <td>1.598576e+17</td>\n",
       "      <td>2.022092e+13</td>\n",
       "      <td>1.380560e+08</td>\n",
       "      <td>56.730634</td>\n",
       "      <td>91.212220</td>\n",
       "      <td>NaN</td>\n",
       "      <td>32.763520</td>\n",
       "      <td>-117.173845</td>\n",
       "      <td>4.850085</td>\n",
       "      <td>NaN</td>\n",
       "      <td>...</td>\n",
       "      <td>4.756353</td>\n",
       "      <td>4.859007</td>\n",
       "      <td>4.844059</td>\n",
       "      <td>4.831859</td>\n",
       "      <td>4.690884</td>\n",
       "      <td>17.266422</td>\n",
       "      <td>16.52333</td>\n",
       "      <td>0.691711</td>\n",
       "      <td>0.046307</td>\n",
       "      <td>2.062491</td>\n",
       "    </tr>\n",
       "    <tr>\n",
       "      <th>std</th>\n",
       "      <td>2.768093e+17</td>\n",
       "      <td>0.000000e+00</td>\n",
       "      <td>1.418414e+08</td>\n",
       "      <td>214.526050</td>\n",
       "      <td>379.486691</td>\n",
       "      <td>NaN</td>\n",
       "      <td>0.095893</td>\n",
       "      <td>0.074868</td>\n",
       "      <td>3.134675</td>\n",
       "      <td>NaN</td>\n",
       "      <td>...</td>\n",
       "      <td>0.380371</td>\n",
       "      <td>0.325133</td>\n",
       "      <td>0.342444</td>\n",
       "      <td>0.304398</td>\n",
       "      <td>0.389596</td>\n",
       "      <td>35.920780</td>\n",
       "      <td>35.91296</td>\n",
       "      <td>2.055917</td>\n",
       "      <td>0.651223</td>\n",
       "      <td>1.862493</td>\n",
       "    </tr>\n",
       "    <tr>\n",
       "      <th>min</th>\n",
       "      <td>2.996700e+04</td>\n",
       "      <td>2.022092e+13</td>\n",
       "      <td>9.080000e+02</td>\n",
       "      <td>1.000000</td>\n",
       "      <td>1.000000</td>\n",
       "      <td>NaN</td>\n",
       "      <td>32.519860</td>\n",
       "      <td>-117.282580</td>\n",
       "      <td>0.000000</td>\n",
       "      <td>NaN</td>\n",
       "      <td>...</td>\n",
       "      <td>1.000000</td>\n",
       "      <td>1.000000</td>\n",
       "      <td>1.000000</td>\n",
       "      <td>1.000000</td>\n",
       "      <td>1.000000</td>\n",
       "      <td>1.000000</td>\n",
       "      <td>0.00000</td>\n",
       "      <td>0.000000</td>\n",
       "      <td>0.000000</td>\n",
       "      <td>0.010000</td>\n",
       "    </tr>\n",
       "    <tr>\n",
       "      <th>25%</th>\n",
       "      <td>2.501449e+07</td>\n",
       "      <td>2.022092e+13</td>\n",
       "      <td>2.392536e+07</td>\n",
       "      <td>1.000000</td>\n",
       "      <td>2.000000</td>\n",
       "      <td>NaN</td>\n",
       "      <td>32.719040</td>\n",
       "      <td>-117.248801</td>\n",
       "      <td>2.000000</td>\n",
       "      <td>NaN</td>\n",
       "      <td>...</td>\n",
       "      <td>4.690000</td>\n",
       "      <td>4.860000</td>\n",
       "      <td>4.830000</td>\n",
       "      <td>4.800000</td>\n",
       "      <td>4.600000</td>\n",
       "      <td>1.000000</td>\n",
       "      <td>1.00000</td>\n",
       "      <td>0.000000</td>\n",
       "      <td>0.000000</td>\n",
       "      <td>0.570000</td>\n",
       "    </tr>\n",
       "    <tr>\n",
       "      <th>50%</th>\n",
       "      <td>4.540953e+07</td>\n",
       "      <td>2.022092e+13</td>\n",
       "      <td>8.279021e+07</td>\n",
       "      <td>4.000000</td>\n",
       "      <td>5.000000</td>\n",
       "      <td>NaN</td>\n",
       "      <td>32.756810</td>\n",
       "      <td>-117.166926</td>\n",
       "      <td>4.000000</td>\n",
       "      <td>NaN</td>\n",
       "      <td>...</td>\n",
       "      <td>4.860000</td>\n",
       "      <td>4.950000</td>\n",
       "      <td>4.950000</td>\n",
       "      <td>4.920000</td>\n",
       "      <td>4.780000</td>\n",
       "      <td>3.000000</td>\n",
       "      <td>2.00000</td>\n",
       "      <td>0.000000</td>\n",
       "      <td>0.000000</td>\n",
       "      <td>1.530000</td>\n",
       "    </tr>\n",
       "    <tr>\n",
       "      <th>75%</th>\n",
       "      <td>5.228793e+17</td>\n",
       "      <td>2.022092e+13</td>\n",
       "      <td>2.195369e+08</td>\n",
       "      <td>19.000000</td>\n",
       "      <td>26.000000</td>\n",
       "      <td>NaN</td>\n",
       "      <td>32.798945</td>\n",
       "      <td>-117.129263</td>\n",
       "      <td>6.000000</td>\n",
       "      <td>NaN</td>\n",
       "      <td>...</td>\n",
       "      <td>4.980000</td>\n",
       "      <td>5.000000</td>\n",
       "      <td>5.000000</td>\n",
       "      <td>5.000000</td>\n",
       "      <td>4.900000</td>\n",
       "      <td>13.000000</td>\n",
       "      <td>12.00000</td>\n",
       "      <td>0.000000</td>\n",
       "      <td>0.000000</td>\n",
       "      <td>3.100000</td>\n",
       "    </tr>\n",
       "    <tr>\n",
       "      <th>max</th>\n",
       "      <td>7.181068e+17</td>\n",
       "      <td>2.022092e+13</td>\n",
       "      <td>4.793766e+08</td>\n",
       "      <td>2641.000000</td>\n",
       "      <td>7013.000000</td>\n",
       "      <td>NaN</td>\n",
       "      <td>33.125690</td>\n",
       "      <td>-116.896560</td>\n",
       "      <td>16.000000</td>\n",
       "      <td>NaN</td>\n",
       "      <td>...</td>\n",
       "      <td>5.000000</td>\n",
       "      <td>5.000000</td>\n",
       "      <td>5.000000</td>\n",
       "      <td>5.000000</td>\n",
       "      <td>5.000000</td>\n",
       "      <td>213.000000</td>\n",
       "      <td>213.00000</td>\n",
       "      <td>18.000000</td>\n",
       "      <td>14.000000</td>\n",
       "      <td>14.110000</td>\n",
       "    </tr>\n",
       "  </tbody>\n",
       "</table>\n",
       "<p>8 rows × 40 columns</p>\n",
       "</div>"
      ],
      "text/plain": [
       "                 id     scrape_id       host_id  host_listings_count  \\\n",
       "count  1.418800e+04  1.418800e+04  1.418800e+04         14174.000000   \n",
       "mean   1.598576e+17  2.022092e+13  1.380560e+08            56.730634   \n",
       "std    2.768093e+17  0.000000e+00  1.418414e+08           214.526050   \n",
       "min    2.996700e+04  2.022092e+13  9.080000e+02             1.000000   \n",
       "25%    2.501449e+07  2.022092e+13  2.392536e+07             1.000000   \n",
       "50%    4.540953e+07  2.022092e+13  8.279021e+07             4.000000   \n",
       "75%    5.228793e+17  2.022092e+13  2.195369e+08            19.000000   \n",
       "max    7.181068e+17  2.022092e+13  4.793766e+08          2641.000000   \n",
       "\n",
       "       host_total_listings_count  neighbourhood_group_cleansed      latitude  \\\n",
       "count               14174.000000                           0.0  14188.000000   \n",
       "mean                   91.212220                           NaN     32.763520   \n",
       "std                   379.486691                           NaN      0.095893   \n",
       "min                     1.000000                           NaN     32.519860   \n",
       "25%                     2.000000                           NaN     32.719040   \n",
       "50%                     5.000000                           NaN     32.756810   \n",
       "75%                    26.000000                           NaN     32.798945   \n",
       "max                  7013.000000                           NaN     33.125690   \n",
       "\n",
       "          longitude  accommodates  bathrooms  ...  review_scores_cleanliness  \\\n",
       "count  14188.000000  14188.000000        0.0  ...               12502.000000   \n",
       "mean    -117.173845      4.850085        NaN  ...                   4.756353   \n",
       "std        0.074868      3.134675        NaN  ...                   0.380371   \n",
       "min     -117.282580      0.000000        NaN  ...                   1.000000   \n",
       "25%     -117.248801      2.000000        NaN  ...                   4.690000   \n",
       "50%     -117.166926      4.000000        NaN  ...                   4.860000   \n",
       "75%     -117.129263      6.000000        NaN  ...                   4.980000   \n",
       "max     -116.896560     16.000000        NaN  ...                   5.000000   \n",
       "\n",
       "       review_scores_checkin  review_scores_communication  \\\n",
       "count           12500.000000                 12502.000000   \n",
       "mean                4.859007                     4.844059   \n",
       "std                 0.325133                     0.342444   \n",
       "min                 1.000000                     1.000000   \n",
       "25%                 4.860000                     4.830000   \n",
       "50%                 4.950000                     4.950000   \n",
       "75%                 5.000000                     5.000000   \n",
       "max                 5.000000                     5.000000   \n",
       "\n",
       "       review_scores_location  review_scores_value  \\\n",
       "count            12500.000000         12500.000000   \n",
       "mean                 4.831859             4.690884   \n",
       "std                  0.304398             0.389596   \n",
       "min                  1.000000             1.000000   \n",
       "25%                  4.800000             4.600000   \n",
       "50%                  4.920000             4.780000   \n",
       "75%                  5.000000             4.900000   \n",
       "max                  5.000000             5.000000   \n",
       "\n",
       "       calculated_host_listings_count  \\\n",
       "count                    14188.000000   \n",
       "mean                        17.266422   \n",
       "std                         35.920780   \n",
       "min                          1.000000   \n",
       "25%                          1.000000   \n",
       "50%                          3.000000   \n",
       "75%                         13.000000   \n",
       "max                        213.000000   \n",
       "\n",
       "       calculated_host_listings_count_entire_homes  \\\n",
       "count                                  14188.00000   \n",
       "mean                                      16.52333   \n",
       "std                                       35.91296   \n",
       "min                                        0.00000   \n",
       "25%                                        1.00000   \n",
       "50%                                        2.00000   \n",
       "75%                                       12.00000   \n",
       "max                                      213.00000   \n",
       "\n",
       "       calculated_host_listings_count_private_rooms  \\\n",
       "count                                  14188.000000   \n",
       "mean                                       0.691711   \n",
       "std                                        2.055917   \n",
       "min                                        0.000000   \n",
       "25%                                        0.000000   \n",
       "50%                                        0.000000   \n",
       "75%                                        0.000000   \n",
       "max                                       18.000000   \n",
       "\n",
       "       calculated_host_listings_count_shared_rooms  reviews_per_month  \n",
       "count                                 14188.000000       12523.000000  \n",
       "mean                                      0.046307           2.062491  \n",
       "std                                       0.651223           1.862493  \n",
       "min                                       0.000000           0.010000  \n",
       "25%                                       0.000000           0.570000  \n",
       "50%                                       0.000000           1.530000  \n",
       "75%                                       0.000000           3.100000  \n",
       "max                                      14.000000          14.110000  \n",
       "\n",
       "[8 rows x 40 columns]"
      ]
     },
     "execution_count": 71,
     "metadata": {},
     "output_type": "execute_result"
    }
   ],
   "source": [
    "listings.describe()"
   ]
  },
  {
   "cell_type": "code",
   "execution_count": 72,
   "metadata": {},
   "outputs": [
    {
     "data": {
      "text/plain": [
       "array(['id', 'listing_url', 'scrape_id', 'last_scraped', 'source', 'name',\n",
       "       'description', 'neighborhood_overview', 'picture_url', 'host_id',\n",
       "       'host_url', 'host_name', 'host_since', 'host_location',\n",
       "       'host_about', 'host_response_time', 'host_response_rate',\n",
       "       'host_acceptance_rate', 'host_is_superhost', 'host_thumbnail_url',\n",
       "       'host_picture_url', 'host_neighbourhood', 'host_listings_count',\n",
       "       'host_total_listings_count', 'host_verifications',\n",
       "       'host_has_profile_pic', 'host_identity_verified', 'neighbourhood',\n",
       "       'neighbourhood_cleansed', 'neighbourhood_group_cleansed',\n",
       "       'latitude', 'longitude', 'property_type', 'room_type',\n",
       "       'accommodates', 'bathrooms', 'bathrooms_text', 'bedrooms', 'beds',\n",
       "       'amenities', 'price', 'minimum_nights', 'maximum_nights',\n",
       "       'minimum_minimum_nights', 'maximum_minimum_nights',\n",
       "       'minimum_maximum_nights', 'maximum_maximum_nights',\n",
       "       'minimum_nights_avg_ntm', 'maximum_nights_avg_ntm',\n",
       "       'calendar_updated', 'has_availability', 'availability_30',\n",
       "       'availability_60', 'availability_90', 'availability_365',\n",
       "       'calendar_last_scraped', 'number_of_reviews',\n",
       "       'number_of_reviews_ltm', 'number_of_reviews_l30d', 'first_review',\n",
       "       'last_review', 'review_scores_rating', 'review_scores_accuracy',\n",
       "       'review_scores_cleanliness', 'review_scores_checkin',\n",
       "       'review_scores_communication', 'review_scores_location',\n",
       "       'review_scores_value', 'license', 'instant_bookable',\n",
       "       'calculated_host_listings_count',\n",
       "       'calculated_host_listings_count_entire_homes',\n",
       "       'calculated_host_listings_count_private_rooms',\n",
       "       'calculated_host_listings_count_shared_rooms', 'reviews_per_month'],\n",
       "      dtype=object)"
      ]
     },
     "execution_count": 72,
     "metadata": {},
     "output_type": "execute_result"
    }
   ],
   "source": [
    "listings.columns.values"
   ]
  },
  {
   "cell_type": "code",
   "execution_count": 78,
   "metadata": {},
   "outputs": [
    {
     "data": {
      "text/html": [
       "<div>\n",
       "<style scoped>\n",
       "    .dataframe tbody tr th:only-of-type {\n",
       "        vertical-align: middle;\n",
       "    }\n",
       "\n",
       "    .dataframe tbody tr th {\n",
       "        vertical-align: top;\n",
       "    }\n",
       "\n",
       "    .dataframe thead th {\n",
       "        text-align: right;\n",
       "    }\n",
       "</style>\n",
       "<table border=\"1\" class=\"dataframe\">\n",
       "  <thead>\n",
       "    <tr style=\"text-align: right;\">\n",
       "      <th></th>\n",
       "      <th>review_scores_rating</th>\n",
       "      <th>review_scores_accuracy</th>\n",
       "      <th>review_scores_cleanliness</th>\n",
       "      <th>review_scores_checkin</th>\n",
       "      <th>review_scores_communication</th>\n",
       "      <th>review_scores_location</th>\n",
       "      <th>review_scores_value</th>\n",
       "    </tr>\n",
       "  </thead>\n",
       "  <tbody>\n",
       "    <tr>\n",
       "      <th>0</th>\n",
       "      <td>4.76</td>\n",
       "      <td>4.75</td>\n",
       "      <td>4.55</td>\n",
       "      <td>4.91</td>\n",
       "      <td>4.91</td>\n",
       "      <td>4.80</td>\n",
       "      <td>4.76</td>\n",
       "    </tr>\n",
       "    <tr>\n",
       "      <th>1</th>\n",
       "      <td>4.33</td>\n",
       "      <td>4.35</td>\n",
       "      <td>4.22</td>\n",
       "      <td>4.72</td>\n",
       "      <td>4.79</td>\n",
       "      <td>4.61</td>\n",
       "      <td>4.40</td>\n",
       "    </tr>\n",
       "    <tr>\n",
       "      <th>2</th>\n",
       "      <td>4.75</td>\n",
       "      <td>4.79</td>\n",
       "      <td>4.55</td>\n",
       "      <td>4.88</td>\n",
       "      <td>4.81</td>\n",
       "      <td>4.89</td>\n",
       "      <td>4.69</td>\n",
       "    </tr>\n",
       "  </tbody>\n",
       "</table>\n",
       "</div>"
      ],
      "text/plain": [
       "   review_scores_rating  review_scores_accuracy  review_scores_cleanliness  \\\n",
       "0                  4.76                    4.75                       4.55   \n",
       "1                  4.33                    4.35                       4.22   \n",
       "2                  4.75                    4.79                       4.55   \n",
       "\n",
       "   review_scores_checkin  review_scores_communication  review_scores_location  \\\n",
       "0                   4.91                         4.91                    4.80   \n",
       "1                   4.72                         4.79                    4.61   \n",
       "2                   4.88                         4.81                    4.89   \n",
       "\n",
       "   review_scores_value  \n",
       "0                 4.76  \n",
       "1                 4.40  \n",
       "2                 4.69  "
      ]
     },
     "execution_count": 78,
     "metadata": {},
     "output_type": "execute_result"
    }
   ],
   "source": [
    "# looking at review scores distributions\n",
    "\n",
    "listings_reviews = listings[[\"review_scores_rating\", \"review_scores_accuracy\", \"review_scores_cleanliness\", \"review_scores_checkin\", \"review_scores_communication\", \"review_scores_location\", \"review_scores_value\"]]\n",
    "\n",
    "listings_reviews.head(3)"
   ]
  },
  {
   "cell_type": "code",
   "execution_count": 91,
   "metadata": {},
   "outputs": [
    {
     "data": {
      "text/plain": [
       "array([[<AxesSubplot: title={'center': 'review_scores_rating'}>,\n",
       "        <AxesSubplot: title={'center': 'review_scores_accuracy'}>,\n",
       "        <AxesSubplot: title={'center': 'review_scores_cleanliness'}>],\n",
       "       [<AxesSubplot: title={'center': 'review_scores_checkin'}>,\n",
       "        <AxesSubplot: title={'center': 'review_scores_communication'}>,\n",
       "        <AxesSubplot: title={'center': 'review_scores_location'}>],\n",
       "       [<AxesSubplot: title={'center': 'review_scores_value'}>,\n",
       "        <AxesSubplot: >, <AxesSubplot: >]], dtype=object)"
      ]
     },
     "execution_count": 91,
     "metadata": {},
     "output_type": "execute_result"
    },
    {
     "data": {
      "image/png": "[encoded data removed]",
      "text/plain": [
       "<Figure size 1500x1000 with 9 Axes>"
      ]
     },
     "metadata": {},
     "output_type": "display_data"
    }
   ],
   "source": [
    "#Histograms of reviews scores\n",
    "\n",
    "listings_reviews.hist(color = \"darkcyan\", figsize=(15,10))\n"
   ]
  },
  {
   "attachments": {},
   "cell_type": "markdown",
   "metadata": {},
   "source": [
    "Looking at property type feature:"
   ]
  },
  {
   "cell_type": "code",
   "execution_count": 92,
   "metadata": {},
   "outputs": [
    {
     "data": {
      "text/plain": [
       "Entire home                  3806\n",
       "Entire rental unit           2610\n",
       "Entire condo                 2304\n",
       "Private room in home         1128\n",
       "Entire guesthouse             677\n",
       "                             ... \n",
       "Private room in treehouse       1\n",
       "Shared room in tent             1\n",
       "Treehouse                       1\n",
       "Room in hostel                  1\n",
       "Room in resort                  1\n",
       "Name: property_type, Length: 78, dtype: int64"
      ]
     },
     "execution_count": 92,
     "metadata": {},
     "output_type": "execute_result"
    }
   ],
   "source": [
    "property_type_values = listings.property_type.value_counts()\n",
    "property_type_values"
   ]
  },
  {
   "attachments": {},
   "cell_type": "markdown",
   "metadata": {},
   "source": [
    "There are 78 total different property types. Perhaps it would be good to narrow down or remove property types that have few counts"
   ]
  },
  {
   "cell_type": "code",
   "execution_count": 98,
   "metadata": {},
   "outputs": [
    {
     "data": {
      "text/plain": [
       "<AxesSubplot: title={'center': 'Top 10 Property Types'}, xlabel='Count', ylabel='Property Types'>"
      ]
     },
     "execution_count": 98,
     "metadata": {},
     "output_type": "execute_result"
    },
    {
     "data": {
      "image/png": "[encoded data removed]",
      "text/plain": [
       "<Figure size 640x480 with 1 Axes>"
      ]
     },
     "metadata": {},
     "output_type": "display_data"
    }
   ],
   "source": [
    "property_type_values = property_type_values.sort_values(ascending=False).head(10)\n",
    "property_type_values.plot(kind='barh', title='Top 10 Property Types', xlabel=\"Count\", ylabel=\"Property Types\", color='darkcyan')"
   ]
  },
  {
   "attachments": {},
   "cell_type": "markdown",
   "metadata": {},
   "source": [
    "Top property types include \"Entire home\", \"Entire rental unit\", \"Entire condo\""
   ]
  },
  {
   "cell_type": "code",
   "execution_count": 99,
   "metadata": {},
   "outputs": [
    {
     "data": {
      "text/plain": [
       "id                                                 0\n",
       "listing_url                                        0\n",
       "scrape_id                                          0\n",
       "last_scraped                                       0\n",
       "source                                             0\n",
       "                                                ... \n",
       "calculated_host_listings_count                     0\n",
       "calculated_host_listings_count_entire_homes        0\n",
       "calculated_host_listings_count_private_rooms       0\n",
       "calculated_host_listings_count_shared_rooms        0\n",
       "reviews_per_month                               1665\n",
       "Length: 75, dtype: int64"
      ]
     },
     "execution_count": 99,
     "metadata": {},
     "output_type": "execute_result"
    }
   ],
   "source": [
    "listings_nulls"
   ]
  },
  {
   "attachments": {},
   "cell_type": "markdown",
   "metadata": {},
   "source": [
    "Dataset has lots of features and may be better to consolidate before diving into EDA"
   ]
  },
  {
   "cell_type": "code",
   "execution_count": 100,
   "metadata": {},
   "outputs": [
    {
     "data": {
      "text/plain": [
       "0    Pacific Beach\n",
       "1      Loma Portal\n",
       "2    Pacific Beach\n",
       "3    Pacific Beach\n",
       "4         La Jolla\n",
       "Name: host_neighbourhood, dtype: object"
      ]
     },
     "execution_count": 100,
     "metadata": {},
     "output_type": "execute_result"
    }
   ],
   "source": [
    "listings.host_neighbourhood.head()"
   ]
  },
  {
   "cell_type": "code",
   "execution_count": 101,
   "metadata": {},
   "outputs": [
    {
     "data": {
      "text/plain": [
       "371"
      ]
     },
     "execution_count": 101,
     "metadata": {},
     "output_type": "execute_result"
    }
   ],
   "source": [
    "listings.host_neighbourhood.nunique()"
   ]
  },
  {
   "attachments": {},
   "cell_type": "markdown",
   "metadata": {},
   "source": [
    "There are 371 total neighborhoods. These could be encoded during preparation process"
   ]
  },
  {
   "cell_type": "code",
   "execution_count": 103,
   "metadata": {},
   "outputs": [
    {
     "data": {
      "text/plain": [
       "Mission Beach               1138\n",
       "Pacific Beach               1115\n",
       "La Jolla                     814\n",
       "North Park                   573\n",
       "East Village                 522\n",
       "                            ... \n",
       "Hillsboro West End             1\n",
       "Mid-Wilshire                   1\n",
       "Anatolia Village               1\n",
       "Torrey Highlands Village       1\n",
       "Yesler Terrace                 1\n",
       "Name: host_neighbourhood, Length: 371, dtype: int64"
      ]
     },
     "execution_count": 103,
     "metadata": {},
     "output_type": "execute_result"
    }
   ],
   "source": [
    "neighborhood_values = listings.host_neighbourhood.value_counts()\n",
    "neighborhood_values"
   ]
  },
  {
   "cell_type": "code",
   "execution_count": 104,
   "metadata": {},
   "outputs": [
    {
     "data": {
      "text/plain": [
       "<AxesSubplot: title={'center': 'Top 10 Neighborhoods With Most Listings'}, xlabel='Count', ylabel='Neighborhoods'>"
      ]
     },
     "execution_count": 104,
     "metadata": {},
     "output_type": "execute_result"
    },
    {
     "data": {
      "image/png": "[encoded data removed]",
      "text/plain": [
       "<Figure size 640x480 with 1 Axes>"
      ]
     },
     "metadata": {},
     "output_type": "display_data"
    }
   ],
   "source": [
    "# Top 10 Neighborhoods\n",
    "\n",
    "neighborhood_values = neighborhood_values.sort_values(ascending=False).head(10)\n",
    "neighborhood_values.plot(kind='barh', title='Top 10 Neighborhoods With Most Listings', xlabel=\"Count\", ylabel=\"Neighborhoods\", color='darkcyan')"
   ]
  },
  {
   "attachments": {},
   "cell_type": "markdown",
   "metadata": {},
   "source": [
    "Top neighborhoods with most listings include Mission Beach, Pacific Beach, and La Jolla"
   ]
  },
  {
   "cell_type": "code",
   "execution_count": 102,
   "metadata": {},
   "outputs": [
    {
     "data": {
      "text/plain": [
       "id                                                 0\n",
       "listing_url                                        0\n",
       "scrape_id                                          0\n",
       "last_scraped                                       0\n",
       "source                                             0\n",
       "                                                ... \n",
       "calculated_host_listings_count                     0\n",
       "calculated_host_listings_count_entire_homes        0\n",
       "calculated_host_listings_count_private_rooms       0\n",
       "calculated_host_listings_count_shared_rooms        0\n",
       "reviews_per_month                               1665\n",
       "Length: 75, dtype: int64"
      ]
     },
     "execution_count": 102,
     "metadata": {},
     "output_type": "execute_result"
    }
   ],
   "source": [
    "listings.isnull().sum()"
   ]
  },
  {
   "attachments": {},
   "cell_type": "markdown",
   "metadata": {},
   "source": [
    "There are a lot of features. These need to be trimmed down significantly. Possible methods include dropping rows that have too many null values, trying different model for feature selection, correlation matrix, etc."
   ]
  },
  {
   "attachments": {},
   "cell_type": "markdown",
   "metadata": {},
   "source": [
    "# Combining Datasets"
   ]
  },
  {
   "cell_type": "code",
   "execution_count": 76,
   "metadata": {},
   "outputs": [],
   "source": [
    "final_df = pd.concat([calendar, listings], axis = 1, join = 'outer')"
   ]
  },
  {
   "cell_type": "code",
   "execution_count": 44,
   "metadata": {},
   "outputs": [
    {
     "data": {
      "text/html": [
       "<div>\n",
       "<style scoped>\n",
       "    .dataframe tbody tr th:only-of-type {\n",
       "        vertical-align: middle;\n",
       "    }\n",
       "\n",
       "    .dataframe tbody tr th {\n",
       "        vertical-align: top;\n",
       "    }\n",
       "\n",
       "    .dataframe thead th {\n",
       "        text-align: right;\n",
       "    }\n",
       "</style>\n",
       "<table border=\"1\" class=\"dataframe\">\n",
       "  <thead>\n",
       "    <tr style=\"text-align: right;\">\n",
       "      <th></th>\n",
       "      <th>listing_id</th>\n",
       "      <th>date</th>\n",
       "      <th>available</th>\n",
       "      <th>price</th>\n",
       "      <th>minimum_nights</th>\n",
       "      <th>maximum_nights</th>\n",
       "      <th>id</th>\n",
       "      <th>listing_url</th>\n",
       "      <th>scrape_id</th>\n",
       "      <th>last_scraped</th>\n",
       "      <th>...</th>\n",
       "      <th>review_scores_checkin</th>\n",
       "      <th>review_scores_communication</th>\n",
       "      <th>review_scores_location</th>\n",
       "      <th>review_scores_value</th>\n",
       "      <th>instant_bookable</th>\n",
       "      <th>calculated_host_listings_count</th>\n",
       "      <th>calculated_host_listings_count_entire_homes</th>\n",
       "      <th>calculated_host_listings_count_private_rooms</th>\n",
       "      <th>calculated_host_listings_count_shared_rooms</th>\n",
       "      <th>reviews_per_month</th>\n",
       "    </tr>\n",
       "  </thead>\n",
       "  <tbody>\n",
       "    <tr>\n",
       "      <th>0</th>\n",
       "      <td>29967</td>\n",
       "      <td>2022-09-18</td>\n",
       "      <td>f</td>\n",
       "      <td>225.0</td>\n",
       "      <td>4.0</td>\n",
       "      <td>365.0</td>\n",
       "      <td>29967.0</td>\n",
       "      <td>https://www.airbnb.com/rooms/29967</td>\n",
       "      <td>2.022092e+13</td>\n",
       "      <td>2022-09-18</td>\n",
       "      <td>...</td>\n",
       "      <td>4.91</td>\n",
       "      <td>4.91</td>\n",
       "      <td>4.80</td>\n",
       "      <td>4.76</td>\n",
       "      <td>f</td>\n",
       "      <td>5.0</td>\n",
       "      <td>5.0</td>\n",
       "      <td>0.0</td>\n",
       "      <td>0.0</td>\n",
       "      <td>0.59</td>\n",
       "    </tr>\n",
       "    <tr>\n",
       "      <th>1</th>\n",
       "      <td>29967</td>\n",
       "      <td>2022-09-19</td>\n",
       "      <td>f</td>\n",
       "      <td>225.0</td>\n",
       "      <td>4.0</td>\n",
       "      <td>365.0</td>\n",
       "      <td>38245.0</td>\n",
       "      <td>https://www.airbnb.com/rooms/38245</td>\n",
       "      <td>2.022092e+13</td>\n",
       "      <td>2022-09-18</td>\n",
       "      <td>...</td>\n",
       "      <td>4.72</td>\n",
       "      <td>4.79</td>\n",
       "      <td>4.61</td>\n",
       "      <td>4.40</td>\n",
       "      <td>f</td>\n",
       "      <td>3.0</td>\n",
       "      <td>0.0</td>\n",
       "      <td>3.0</td>\n",
       "      <td>0.0</td>\n",
       "      <td>1.02</td>\n",
       "    </tr>\n",
       "    <tr>\n",
       "      <th>2</th>\n",
       "      <td>29967</td>\n",
       "      <td>2022-09-20</td>\n",
       "      <td>f</td>\n",
       "      <td>225.0</td>\n",
       "      <td>4.0</td>\n",
       "      <td>365.0</td>\n",
       "      <td>108349.0</td>\n",
       "      <td>https://www.airbnb.com/rooms/108349</td>\n",
       "      <td>2.022092e+13</td>\n",
       "      <td>2022-09-19</td>\n",
       "      <td>...</td>\n",
       "      <td>4.88</td>\n",
       "      <td>4.81</td>\n",
       "      <td>4.89</td>\n",
       "      <td>4.69</td>\n",
       "      <td>t</td>\n",
       "      <td>2.0</td>\n",
       "      <td>2.0</td>\n",
       "      <td>0.0</td>\n",
       "      <td>0.0</td>\n",
       "      <td>1.20</td>\n",
       "    </tr>\n",
       "    <tr>\n",
       "      <th>3</th>\n",
       "      <td>29967</td>\n",
       "      <td>2022-09-21</td>\n",
       "      <td>f</td>\n",
       "      <td>225.0</td>\n",
       "      <td>4.0</td>\n",
       "      <td>365.0</td>\n",
       "      <td>126344.0</td>\n",
       "      <td>https://www.airbnb.com/rooms/126344</td>\n",
       "      <td>2.022092e+13</td>\n",
       "      <td>2022-09-18</td>\n",
       "      <td>...</td>\n",
       "      <td>4.88</td>\n",
       "      <td>4.81</td>\n",
       "      <td>4.78</td>\n",
       "      <td>4.65</td>\n",
       "      <td>t</td>\n",
       "      <td>2.0</td>\n",
       "      <td>2.0</td>\n",
       "      <td>0.0</td>\n",
       "      <td>0.0</td>\n",
       "      <td>1.38</td>\n",
       "    </tr>\n",
       "    <tr>\n",
       "      <th>4</th>\n",
       "      <td>29967</td>\n",
       "      <td>2022-09-22</td>\n",
       "      <td>f</td>\n",
       "      <td>225.0</td>\n",
       "      <td>4.0</td>\n",
       "      <td>365.0</td>\n",
       "      <td>54001.0</td>\n",
       "      <td>https://www.airbnb.com/rooms/54001</td>\n",
       "      <td>2.022092e+13</td>\n",
       "      <td>2022-09-18</td>\n",
       "      <td>...</td>\n",
       "      <td>4.97</td>\n",
       "      <td>4.98</td>\n",
       "      <td>4.97</td>\n",
       "      <td>4.89</td>\n",
       "      <td>f</td>\n",
       "      <td>2.0</td>\n",
       "      <td>1.0</td>\n",
       "      <td>1.0</td>\n",
       "      <td>0.0</td>\n",
       "      <td>2.08</td>\n",
       "    </tr>\n",
       "  </tbody>\n",
       "</table>\n",
       "<p>5 rows × 77 columns</p>\n",
       "</div>"
      ],
      "text/plain": [
       "   listing_id       date available  price  minimum_nights  maximum_nights  \\\n",
       "0       29967 2022-09-18         f  225.0             4.0           365.0   \n",
       "1       29967 2022-09-19         f  225.0             4.0           365.0   \n",
       "2       29967 2022-09-20         f  225.0             4.0           365.0   \n",
       "3       29967 2022-09-21         f  225.0             4.0           365.0   \n",
       "4       29967 2022-09-22         f  225.0             4.0           365.0   \n",
       "\n",
       "         id                          listing_url     scrape_id last_scraped  \\\n",
       "0   29967.0   https://www.airbnb.com/rooms/29967  2.022092e+13   2022-09-18   \n",
       "1   38245.0   https://www.airbnb.com/rooms/38245  2.022092e+13   2022-09-18   \n",
       "2  108349.0  https://www.airbnb.com/rooms/108349  2.022092e+13   2022-09-19   \n",
       "3  126344.0  https://www.airbnb.com/rooms/126344  2.022092e+13   2022-09-18   \n",
       "4   54001.0   https://www.airbnb.com/rooms/54001  2.022092e+13   2022-09-18   \n",
       "\n",
       "   ... review_scores_checkin review_scores_communication  \\\n",
       "0  ...                  4.91                        4.91   \n",
       "1  ...                  4.72                        4.79   \n",
       "2  ...                  4.88                        4.81   \n",
       "3  ...                  4.88                        4.81   \n",
       "4  ...                  4.97                        4.98   \n",
       "\n",
       "  review_scores_location review_scores_value instant_bookable  \\\n",
       "0                   4.80                4.76                f   \n",
       "1                   4.61                4.40                f   \n",
       "2                   4.89                4.69                t   \n",
       "3                   4.78                4.65                t   \n",
       "4                   4.97                4.89                f   \n",
       "\n",
       "   calculated_host_listings_count calculated_host_listings_count_entire_homes  \\\n",
       "0                             5.0                                         5.0   \n",
       "1                             3.0                                         0.0   \n",
       "2                             2.0                                         2.0   \n",
       "3                             2.0                                         2.0   \n",
       "4                             2.0                                         1.0   \n",
       "\n",
       "  calculated_host_listings_count_private_rooms  \\\n",
       "0                                          0.0   \n",
       "1                                          3.0   \n",
       "2                                          0.0   \n",
       "3                                          0.0   \n",
       "4                                          1.0   \n",
       "\n",
       "  calculated_host_listings_count_shared_rooms reviews_per_month  \n",
       "0                                         0.0              0.59  \n",
       "1                                         0.0              1.02  \n",
       "2                                         0.0              1.20  \n",
       "3                                         0.0              1.38  \n",
       "4                                         0.0              2.08  \n",
       "\n",
       "[5 rows x 77 columns]"
      ]
     },
     "execution_count": 44,
     "metadata": {},
     "output_type": "execute_result"
    }
   ],
   "source": [
    "final_df.head()"
   ]
  },
  {
   "cell_type": "code",
   "execution_count": 47,
   "metadata": {},
   "outputs": [
    {
     "data": {
      "text/html": [
       "<div>\n",
       "<style scoped>\n",
       "    .dataframe tbody tr th:only-of-type {\n",
       "        vertical-align: middle;\n",
       "    }\n",
       "\n",
       "    .dataframe tbody tr th {\n",
       "        vertical-align: top;\n",
       "    }\n",
       "\n",
       "    .dataframe thead th {\n",
       "        text-align: right;\n",
       "    }\n",
       "</style>\n",
       "<table border=\"1\" class=\"dataframe\">\n",
       "  <thead>\n",
       "    <tr style=\"text-align: right;\">\n",
       "      <th></th>\n",
       "      <th>listing_id</th>\n",
       "      <th>date</th>\n",
       "      <th>available</th>\n",
       "      <th>price</th>\n",
       "      <th>minimum_nights</th>\n",
       "      <th>maximum_nights</th>\n",
       "      <th>id</th>\n",
       "      <th>listing_url</th>\n",
       "      <th>scrape_id</th>\n",
       "      <th>last_scraped</th>\n",
       "      <th>...</th>\n",
       "      <th>review_scores_checkin</th>\n",
       "      <th>review_scores_communication</th>\n",
       "      <th>review_scores_location</th>\n",
       "      <th>review_scores_value</th>\n",
       "      <th>instant_bookable</th>\n",
       "      <th>calculated_host_listings_count</th>\n",
       "      <th>calculated_host_listings_count_entire_homes</th>\n",
       "      <th>calculated_host_listings_count_private_rooms</th>\n",
       "      <th>calculated_host_listings_count_shared_rooms</th>\n",
       "      <th>reviews_per_month</th>\n",
       "    </tr>\n",
       "  </thead>\n",
       "  <tbody>\n",
       "    <tr>\n",
       "      <th>5173667</th>\n",
       "      <td>103841</td>\n",
       "      <td>2023-09-13</td>\n",
       "      <td>f</td>\n",
       "      <td>103.0</td>\n",
       "      <td>2.0</td>\n",
       "      <td>31.0</td>\n",
       "      <td>NaN</td>\n",
       "      <td>NaN</td>\n",
       "      <td>NaN</td>\n",
       "      <td>NaN</td>\n",
       "      <td>...</td>\n",
       "      <td>NaN</td>\n",
       "      <td>NaN</td>\n",
       "      <td>NaN</td>\n",
       "      <td>NaN</td>\n",
       "      <td>NaN</td>\n",
       "      <td>NaN</td>\n",
       "      <td>NaN</td>\n",
       "      <td>NaN</td>\n",
       "      <td>NaN</td>\n",
       "      <td>NaN</td>\n",
       "    </tr>\n",
       "    <tr>\n",
       "      <th>5173668</th>\n",
       "      <td>103841</td>\n",
       "      <td>2023-09-14</td>\n",
       "      <td>f</td>\n",
       "      <td>103.0</td>\n",
       "      <td>2.0</td>\n",
       "      <td>31.0</td>\n",
       "      <td>NaN</td>\n",
       "      <td>NaN</td>\n",
       "      <td>NaN</td>\n",
       "      <td>NaN</td>\n",
       "      <td>...</td>\n",
       "      <td>NaN</td>\n",
       "      <td>NaN</td>\n",
       "      <td>NaN</td>\n",
       "      <td>NaN</td>\n",
       "      <td>NaN</td>\n",
       "      <td>NaN</td>\n",
       "      <td>NaN</td>\n",
       "      <td>NaN</td>\n",
       "      <td>NaN</td>\n",
       "      <td>NaN</td>\n",
       "    </tr>\n",
       "    <tr>\n",
       "      <th>5173669</th>\n",
       "      <td>103841</td>\n",
       "      <td>2023-09-15</td>\n",
       "      <td>f</td>\n",
       "      <td>103.0</td>\n",
       "      <td>2.0</td>\n",
       "      <td>31.0</td>\n",
       "      <td>NaN</td>\n",
       "      <td>NaN</td>\n",
       "      <td>NaN</td>\n",
       "      <td>NaN</td>\n",
       "      <td>...</td>\n",
       "      <td>NaN</td>\n",
       "      <td>NaN</td>\n",
       "      <td>NaN</td>\n",
       "      <td>NaN</td>\n",
       "      <td>NaN</td>\n",
       "      <td>NaN</td>\n",
       "      <td>NaN</td>\n",
       "      <td>NaN</td>\n",
       "      <td>NaN</td>\n",
       "      <td>NaN</td>\n",
       "    </tr>\n",
       "    <tr>\n",
       "      <th>5173670</th>\n",
       "      <td>103841</td>\n",
       "      <td>2023-09-16</td>\n",
       "      <td>f</td>\n",
       "      <td>103.0</td>\n",
       "      <td>2.0</td>\n",
       "      <td>31.0</td>\n",
       "      <td>NaN</td>\n",
       "      <td>NaN</td>\n",
       "      <td>NaN</td>\n",
       "      <td>NaN</td>\n",
       "      <td>...</td>\n",
       "      <td>NaN</td>\n",
       "      <td>NaN</td>\n",
       "      <td>NaN</td>\n",
       "      <td>NaN</td>\n",
       "      <td>NaN</td>\n",
       "      <td>NaN</td>\n",
       "      <td>NaN</td>\n",
       "      <td>NaN</td>\n",
       "      <td>NaN</td>\n",
       "      <td>NaN</td>\n",
       "    </tr>\n",
       "    <tr>\n",
       "      <th>5173671</th>\n",
       "      <td>103841</td>\n",
       "      <td>2023-09-17</td>\n",
       "      <td>f</td>\n",
       "      <td>103.0</td>\n",
       "      <td>2.0</td>\n",
       "      <td>31.0</td>\n",
       "      <td>NaN</td>\n",
       "      <td>NaN</td>\n",
       "      <td>NaN</td>\n",
       "      <td>NaN</td>\n",
       "      <td>...</td>\n",
       "      <td>NaN</td>\n",
       "      <td>NaN</td>\n",
       "      <td>NaN</td>\n",
       "      <td>NaN</td>\n",
       "      <td>NaN</td>\n",
       "      <td>NaN</td>\n",
       "      <td>NaN</td>\n",
       "      <td>NaN</td>\n",
       "      <td>NaN</td>\n",
       "      <td>NaN</td>\n",
       "    </tr>\n",
       "  </tbody>\n",
       "</table>\n",
       "<p>5 rows × 77 columns</p>\n",
       "</div>"
      ],
      "text/plain": [
       "         listing_id       date available  price  minimum_nights  \\\n",
       "5173667      103841 2023-09-13         f  103.0             2.0   \n",
       "5173668      103841 2023-09-14         f  103.0             2.0   \n",
       "5173669      103841 2023-09-15         f  103.0             2.0   \n",
       "5173670      103841 2023-09-16         f  103.0             2.0   \n",
       "5173671      103841 2023-09-17         f  103.0             2.0   \n",
       "\n",
       "         maximum_nights  id listing_url  scrape_id last_scraped  ...  \\\n",
       "5173667            31.0 NaN         NaN        NaN          NaN  ...   \n",
       "5173668            31.0 NaN         NaN        NaN          NaN  ...   \n",
       "5173669            31.0 NaN         NaN        NaN          NaN  ...   \n",
       "5173670            31.0 NaN         NaN        NaN          NaN  ...   \n",
       "5173671            31.0 NaN         NaN        NaN          NaN  ...   \n",
       "\n",
       "        review_scores_checkin review_scores_communication  \\\n",
       "5173667                   NaN                         NaN   \n",
       "5173668                   NaN                         NaN   \n",
       "5173669                   NaN                         NaN   \n",
       "5173670                   NaN                         NaN   \n",
       "5173671                   NaN                         NaN   \n",
       "\n",
       "        review_scores_location review_scores_value instant_bookable  \\\n",
       "5173667                    NaN                 NaN              NaN   \n",
       "5173668                    NaN                 NaN              NaN   \n",
       "5173669                    NaN                 NaN              NaN   \n",
       "5173670                    NaN                 NaN              NaN   \n",
       "5173671                    NaN                 NaN              NaN   \n",
       "\n",
       "         calculated_host_listings_count  \\\n",
       "5173667                             NaN   \n",
       "5173668                             NaN   \n",
       "5173669                             NaN   \n",
       "5173670                             NaN   \n",
       "5173671                             NaN   \n",
       "\n",
       "        calculated_host_listings_count_entire_homes  \\\n",
       "5173667                                         NaN   \n",
       "5173668                                         NaN   \n",
       "5173669                                         NaN   \n",
       "5173670                                         NaN   \n",
       "5173671                                         NaN   \n",
       "\n",
       "        calculated_host_listings_count_private_rooms  \\\n",
       "5173667                                          NaN   \n",
       "5173668                                          NaN   \n",
       "5173669                                          NaN   \n",
       "5173670                                          NaN   \n",
       "5173671                                          NaN   \n",
       "\n",
       "        calculated_host_listings_count_shared_rooms reviews_per_month  \n",
       "5173667                                         NaN               NaN  \n",
       "5173668                                         NaN               NaN  \n",
       "5173669                                         NaN               NaN  \n",
       "5173670                                         NaN               NaN  \n",
       "5173671                                         NaN               NaN  \n",
       "\n",
       "[5 rows x 77 columns]"
      ]
     },
     "execution_count": 47,
     "metadata": {},
     "output_type": "execute_result"
    }
   ],
   "source": [
    "final_df.tail()"
   ]
  },
  {
   "cell_type": "code",
   "execution_count": 45,
   "metadata": {},
   "outputs": [
    {
     "data": {
      "text/plain": [
       "(5173672, 77)"
      ]
     },
     "execution_count": 45,
     "metadata": {},
     "output_type": "execute_result"
    }
   ],
   "source": [
    "final_df.shape"
   ]
  },
  {
   "attachments": {},
   "cell_type": "markdown",
   "metadata": {},
   "source": [
    "#### Determining Feature Importance"
   ]
  }
 ],
 "metadata": {
  "kernelspec": {
   "display_name": "Python 3",
   "language": "python",
   "name": "python3"
  },
  "language_info": {
   "codemirror_mode": {
    "name": "ipython",
    "version": 3
   },
   "file_extension": ".py",
   "mimetype": "text/x-python",
   "name": "python",
   "nbconvert_exporter": "python",
   "pygments_lexer": "ipython3",
   "version": "3.10.0"
  },
  "orig_nbformat": 4,
  "vscode": {
   "interpreter": {
    "hash": "aee8b7b246df8f9039afb4144a1f6fd8d2ca17a180786b69acc140d282b71a49"
   }
  }
 },
 "nbformat": 4,
 "nbformat_minor": 2
}
